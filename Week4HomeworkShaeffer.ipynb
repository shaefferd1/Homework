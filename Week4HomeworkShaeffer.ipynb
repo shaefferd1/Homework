{
 "cells": [
  {
   "cell_type": "code",
   "execution_count": null,
   "metadata": {},
   "outputs": [],
   "source": [
    "# Python Homework (Flow Control, Modules, Functions, Exceptions, NumPy) \n",
    "\n",
    "**Note**: You can create a Python file or a Jupyter Notebook file\n",
    "\n",
    "<br> \n",
    "\n",
    "**<ins>Use markdown formatting for the following questions (e.g., bold lettering, bullet points, different font sizes, etc.)</ins>**:\n",
    "\n",
    "#1. What does one need to do to use a module?\n",
    "## One would need to import the respective module into into the code database by using the import statement.\n",
    "\n",
    "#1. Name a Module (not the DateTime Nodule) we looked at and write a line or 2 of code as an example using this module.\n",
    "## Numpy\n",
    "import numpy as np \n",
    "array = np.array({4, 5, 6})\n",
    "\n",
    "1. Why use an exception statement? \n",
    "## When an error is received, an except block allows you to handle the error.\n",
    "\n",
    "1. what are the 4 components used for Python Exception Handling?\n",
    "## The four components used for Python Exception Handling are: \n",
    "* try, except, else, and finally\n",
    "\n",
    "1. NumPy arrays are like what Python data type?\n",
    "## Lists\n",
    "\n",
    "1. What is one of the main benefits of using NumPy arrays.\n",
    "## Utilize less memory.\n",
    "\n",
    "1. What is one of the main requirements about the 'dtype' of NumPy arrays?\n",
    "## The data type and size must be consistent throughout.\n",
    "\n",
    "1. Of the 10 uses of NumPy, name 2.\n",
    "## shape arrays and perform math.\n",
    "\n",
    "1. Name one of the other libraries we'll use with NumPy?\n",
    "## Pandas\n",
    "\n",
    "1. What is the shape of NumPy arrays?\n",
    "## The dimensions and elements/items contained wthin it.\n",
    "\n",
    "1. What is a Tensor?\n",
    "## An array wit 3 or more dimensions.\n",
    "\n",
    "1. Name a reason why it's better using  NumPy for Data Analysis than using a Python List?\n",
    "## Numpy works well with other packages and allows for data wrangling anf visualization for data science and analytics.\n",
    "\n",
    "1. When creating an \"empty\" array, where do the elements come from?\n",
    "## Elements can come from the empty function.\n",
    "<br>\n",
    "\n",
    "#### Flow Control Methods:\n",
    "\n",
    "1. Create an if statement: if 'age' is greater than or equal to 25, print \"Renting a car is more affordable\", however if 'age' is less than 25, print \"Renting a car is very expensive.\"\n",
    "\n",
    "2. Create and chain an if-else  statement: if 'age' is greater than or equal to 25, print \"Renting a car is more affordable.\" If 'age' is less than 25 but greater than or equal to 18, print \"Renting a car is very expensive.\" Finally, if age is less than 18, print \"You cannot legally rent a car.\"\n",
    "\n",
    "3. Loop over the following string to (1) count all the characters in the string and (2) print out all the vowels -- \"The quick brown fox jumps over the lazy dog\"\n",
    "\n",
    "4. Write a nested loop that prints out every piece of clothing from the `couture` list, in every fashionable color from the `panettone` set: couture = [\"trousers\", \"blouse\", \"bandana\", \"cumber band\", \"blazer\", \"vest\", \"french beret\", \"scarf\", \"stole\"] and panettone = {\"cerise\", \"fuchsia\", \"aqua\", \"maple\", \"auburn\", \"burnt sienna\", \"gunmetal blue\", \"Dark Sapphire\"}\n",
    "\n",
    "5. Use range as a loop to calculate the sum of all the numbers from 1 to 100\n",
    "\n",
    "6. Print the second item in this fruits list.\n",
    "    [\"apple\", \"banana\", \"cherry\"]\n",
    "\n",
    "7. Change the value from \"apple\" to \"kiwi\", in the fruits list.\n",
    "    [\"apple\", \"banana\", \"cherry\"]\n",
    "\n",
    "8. Use the append method to add \"orange\" to the fruits list.\n",
    "    [\"apple\", \"banana\", \"cherry\"]\n",
    "\n",
    "9. Use the insert method to add \"lemon\" as the second item in the fruits list.\n",
    "    [\"apple\", \"banana\", \"cherry\"]\n",
    "\n",
    "10. Use the remove method to remove \"banana\" from the fruits list.\n",
    "    [\"apple\", \"banana\", \"cherry\"]\n",
    "\n",
    "11. Use negative indexing to print the 3rd and 2nd to last items in the list.\n",
    "    [\"apple\", \"banana\", \"cherry\", \"orange\", \"kiwi\", \"melon\", \"mango\"]\n",
    "\n",
    "12. Use a range of indexes to print the third, fourth, and fifth item in the list.\n",
    "    [\"apple\", \"banana\", \"cherry\", \"orange\", \"kiwi\", \"melon\", \"mango\"]\n",
    "\n",
    "13. Use the correct syntax to print the number of items in the list.\n",
    "    [\"apple\", \"banana\", \"cherry\", \"orange\", \"kiwi\", \"melon\", \"mango\"]\n",
    "\n",
    "14. Use the correct syntax to sort this list in reverse order\n",
    "    [\"apple\", \"banana\", \"cherry\", \"orange\", \"kiwi\", \"melon\", \"mango\"]\n",
    "\n",
    "<br>\n",
    "\n",
    "\n",
    "**<ins>Use a Python code file for this section</ins>**:\n",
    "\n",
    "15. Use the DateTime module to get Current Date and Time, and save it to a variable. Then extract just the Full month name form that variable.\n",
    "\n",
    "16. Write a simple function that takes 2 parameters -- a  first name and a day name.\n",
    "    - Set a default value for the day name of Sunday.\n",
    "    - Have the function print out a greeting -- using the parameters -- that says something like \"Hi first-name! Happy day-name!\". Remember to use the variables in the greeting to replace first-name and day-name.  \n",
    "    - Invoke this function with 2 variables.\n",
    "    - Invoke this function with 1 variable only.\n",
    "\n",
    "17. Write a block of code to handle one of the most common Python exception errors. Select one of the common errors from the curriculum section on Python Exception handling. Have your code example uses the `try`,`except`, `else`, and `finally` components.\n",
    "\n",
    "<br>\n",
    "\n",
    "#### When done with homework:\n",
    "- **Due Date**: The following Monday before class\n",
    "- Make sure your homework file is well named\n",
    "- Add the homework to your Homework repo\n",
    "- Use  `git add .`, `git commit -m \"message\"`, and `git push` to upload your homework changes to GitHub in the cloud\n",
    "- Create a JIRA ticket to indicate that your Homework is ready for review:\n",
    "    - <ins> In the \"Summary\" box</ins>: Include First Name and Last Initial, plus a short description in the Summary box (Ex: Jane D. Week # Homework Complete)\n",
    "    - <ins> In the \"Description\" box</ins>: Include GitHub repo url \n",
    "\n",
    "<br>\n",
    "\n",
    "------------------------------------------------------------------------------------\n",
    "\n",
    "<br>\n",
    "\n",
    "#### Final Note: \n",
    "**<ins>Goal from this past week</ins>**: \n",
    "- Become familiar with Python Flow Control:\n",
    "        - comparison vs. logical operators\n",
    "        - if, else, elif\n",
    "        - loops\n",
    "- Understanding and knowing the difference between Python Modules, Libraries and Functions\n",
    "- Learn about Python Exception Handling: try, except, else\n",
    "- Python Arrays\n",
    "- Intro to Numpy"
   ]
  },
  {
   "cell_type": "markdown",
   "metadata": {},
   "source": [
    "#1. What does one need to do to use a module?\n",
    "## One would need to import the respective module into into the code database by using the import statement."
   ]
  },
  {
   "cell_type": "code",
   "execution_count": 1,
   "metadata": {},
   "outputs": [
    {
     "name": "stdout",
     "output_type": "stream",
     "text": [
      "{4, 5, 6}\n"
     ]
    }
   ],
   "source": [
    "#1. Name a Module (not the DateTime Nodule) we looked at and write a line or 2 of code as an example using this module.\n",
    "## Numpy\n",
    "import numpy as np \n",
    "array = np.array({4, 5, 6})\n",
    "print(array)"
   ]
  },
  {
   "cell_type": "markdown",
   "metadata": {},
   "source": [
    "# Why use an exception statement? \n",
    "## When an error is received, an except block allows you to handle the error."
   ]
  },
  {
   "cell_type": "markdown",
   "metadata": {},
   "source": [
    "# what are the 4 components used for Python Exception Handling?\n",
    "## The four components used for Python Exception Handling are: \n",
    "* try\n",
    "* except\n",
    "* else\n",
    "* finally"
   ]
  },
  {
   "cell_type": "markdown",
   "metadata": {},
   "source": [
    "# NumPy arrays are like what Python data type?\n",
    "## Lists"
   ]
  },
  {
   "cell_type": "markdown",
   "metadata": {},
   "source": [
    "# What is one of the main benefits of using NumPy arrays.\n",
    "## Utilize less memory."
   ]
  },
  {
   "cell_type": "markdown",
   "metadata": {},
   "source": [
    "# What is one of the main requirements about the 'dtype' of NumPy arrays?\n",
    "## The data type and size must be consistent throughout."
   ]
  },
  {
   "cell_type": "markdown",
   "metadata": {},
   "source": [
    "1. Of the 10 uses of NumPy, name 2.\n",
    "## shape arrays and perform math operations."
   ]
  },
  {
   "cell_type": "markdown",
   "metadata": {},
   "source": [
    "1. Name one of the other libraries we'll use with NumPy?\n",
    "## Pandas"
   ]
  },
  {
   "cell_type": "markdown",
   "metadata": {},
   "source": [
    "1. What is the shape of NumPy arrays?\n",
    "## Arrays refer to the dimensions and elements/items contained wthin it."
   ]
  },
  {
   "cell_type": "markdown",
   "metadata": {},
   "source": [
    "1. What is a Tensor?\n",
    "## An array wit 3 or more dimensions."
   ]
  },
  {
   "cell_type": "markdown",
   "metadata": {},
   "source": [
    "1. Name a reason why it's better using  NumPy for Data Analysis than using a Python List?\n",
    "## Numpy works well with other packages and allows for data organization functions and visualization for data science and analytics."
   ]
  },
  {
   "cell_type": "markdown",
   "metadata": {},
   "source": [
    "1. When creating an \"empty\" array, where do the elements come from?\n",
    "## Elements can come from the empty function."
   ]
  },
  {
   "cell_type": "code",
   "execution_count": 3,
   "metadata": {},
   "outputs": [
    {
     "name": "stdout",
     "output_type": "stream",
     "text": [
      "Renting a car is more affordable\n"
     ]
    }
   ],
   "source": [
    "#Create an if statement: if 'age' is greater than or equal to 25, print \"Renting a car is more affordable\",however if 'age' is less than 25, print \"Renting a car is very expensive.\"\n",
    "age = 33\n",
    "if age >= 25:\n",
    "    print(\"Renting a car is more affordable\") \n",
    "else:\n",
    "    print(\"Renting a car is very expensive\")"
   ]
  },
  {
   "cell_type": "code",
   "execution_count": 4,
   "metadata": {},
   "outputs": [
    {
     "name": "stdout",
     "output_type": "stream",
     "text": [
      "Renting a car is more affordable\n"
     ]
    }
   ],
   "source": [
    "#Create and chain an if-else  statement: if 'age' is greater than or equal to 25, print \"Renting a car is more affordable.\" If 'age' is less than 25 but greater than or equal to 18, print \"Renting a car is very expensive.\" Finally, if age is less than 18, print \"You cannot legally rent a car.\"\n",
    "age = 33\n",
    "if age >= 25:\n",
    "    print(\"Renting a car is more affordable\") \n",
    "elif age >= 18:\n",
    "    print(\"Renting a car is very expensive\")\n",
    "else:\n",
    "    print(\"You cannot legally rent a car\")\n"
   ]
  },
  {
   "cell_type": "code",
   "execution_count": 10,
   "metadata": {},
   "outputs": [
    {
     "name": "stdout",
     "output_type": "stream",
     "text": [
      "The quick brown fox jumps over the lazy dog\n",
      "AaEeIiOoUu\n",
      "Total number of characters: 43\n",
      "Vowels in the string: e u i o o u o e e a o\n"
     ]
    }
   ],
   "source": [
    "# Loop over the following string to (1) count all the characters in the string and (2) print out all the vowels -- \"The quick brown fox jumps over the lazy dog\"\n",
    "example = \"The quick brown fox jumps over the lazy dog\"\n",
    "vowels = \"AaEeIiOoUu\"\n",
    "character_count = 0\n",
    "print(example)\n",
    "print(vowels)\n",
    "\n",
    "vowel_list = []\n",
    "for char in example:\n",
    "    character_count += 1\n",
    "    if char in vowels:\n",
    "        vowel_list.append(char)\n",
    "\n",
    "print(\"Total number of characters:\", character_count)\n",
    "print(\"Vowels in the string:\",\" \" .join(vowel_list))\n",
    "\n",
    "\n"
   ]
  },
  {
   "cell_type": "code",
   "execution_count": 22,
   "metadata": {},
   "outputs": [
    {
     "name": "stdout",
     "output_type": "stream",
     "text": [
      "('trousers', 'blouse', 'bandana', 'cumber band', 'blazer', 'vest', 'french beret', 'scarf', 'stole')\n",
      "('cerise', 'Fuchsia', 'aqua', 'maple', 'auburn', 'burnt sienna', 'gunmetal blue', 'Dark Sapphire')\n",
      "trousers in cerise\n",
      "trousers in Fuchsia\n",
      "trousers in aqua\n",
      "trousers in maple\n",
      "trousers in auburn\n",
      "trousers in burnt sienna\n",
      "trousers in gunmetal blue\n",
      "trousers in Dark Sapphire\n",
      "blouse in cerise\n",
      "blouse in Fuchsia\n",
      "blouse in aqua\n",
      "blouse in maple\n",
      "blouse in auburn\n",
      "blouse in burnt sienna\n",
      "blouse in gunmetal blue\n",
      "blouse in Dark Sapphire\n",
      "bandana in cerise\n",
      "bandana in Fuchsia\n",
      "bandana in aqua\n",
      "bandana in maple\n",
      "bandana in auburn\n",
      "bandana in burnt sienna\n",
      "bandana in gunmetal blue\n",
      "bandana in Dark Sapphire\n",
      "cumber band in cerise\n",
      "cumber band in Fuchsia\n",
      "cumber band in aqua\n",
      "cumber band in maple\n",
      "cumber band in auburn\n",
      "cumber band in burnt sienna\n",
      "cumber band in gunmetal blue\n",
      "cumber band in Dark Sapphire\n",
      "blazer in cerise\n",
      "blazer in Fuchsia\n",
      "blazer in aqua\n",
      "blazer in maple\n",
      "blazer in auburn\n",
      "blazer in burnt sienna\n",
      "blazer in gunmetal blue\n",
      "blazer in Dark Sapphire\n",
      "vest in cerise\n",
      "vest in Fuchsia\n",
      "vest in aqua\n",
      "vest in maple\n",
      "vest in auburn\n",
      "vest in burnt sienna\n",
      "vest in gunmetal blue\n",
      "vest in Dark Sapphire\n",
      "french beret in cerise\n",
      "french beret in Fuchsia\n",
      "french beret in aqua\n",
      "french beret in maple\n",
      "french beret in auburn\n",
      "french beret in burnt sienna\n",
      "french beret in gunmetal blue\n",
      "french beret in Dark Sapphire\n",
      "scarf in cerise\n",
      "scarf in Fuchsia\n",
      "scarf in aqua\n",
      "scarf in maple\n",
      "scarf in auburn\n",
      "scarf in burnt sienna\n",
      "scarf in gunmetal blue\n",
      "scarf in Dark Sapphire\n",
      "stole in cerise\n",
      "stole in Fuchsia\n",
      "stole in aqua\n",
      "stole in maple\n",
      "stole in auburn\n",
      "stole in burnt sienna\n",
      "stole in gunmetal blue\n",
      "stole in Dark Sapphire\n"
     ]
    }
   ],
   "source": [
    "#Write a nested loop that prints out every piece of clothing from the `couture` list, in every fashionable color from the `panettone` set: couture = [\"trousers\", \"blouse\", \"bandana\", \"cumber band\", \"blazer\", \"vest\", \"french beret\", \"scarf\", \"stole\"] and panettone = {\"cerise\", \"fuchsia\", \"aqua\", \"maple\", \"auburn\", \"burnt sienna\", \"gunmetal blue\", \"Dark Sapphire\"}\n",
    "\n",
    "couture = \"trousers\", \"blouse\", \"bandana\", \"cumber band\", \"blazer\", \"vest\", \"french beret\", \"scarf\", \"stole\"\n",
    "print(couture)\n",
    "\n",
    "pannettone = \"cerise\", \"Fuchsia\", \"aqua\", \"maple\", \"auburn\", \"burnt sienna\", \"gunmetal blue\", \"Dark Sapphire\"\n",
    "print(pannettone)\n",
    "\n",
    "for item in couture: \n",
    "    for color in pannettone:\n",
    "        print(f\"{item} in {color}\") \n"
   ]
  },
  {
   "cell_type": "code",
   "execution_count": 24,
   "metadata": {},
   "outputs": [
    {
     "name": "stdout",
     "output_type": "stream",
     "text": [
      "The sum of numbers from 1 to 100 is: 1\n",
      "The sum of numbers from 1 to 100 is: 3\n",
      "The sum of numbers from 1 to 100 is: 6\n",
      "The sum of numbers from 1 to 100 is: 10\n",
      "The sum of numbers from 1 to 100 is: 15\n",
      "The sum of numbers from 1 to 100 is: 21\n",
      "The sum of numbers from 1 to 100 is: 28\n",
      "The sum of numbers from 1 to 100 is: 36\n",
      "The sum of numbers from 1 to 100 is: 45\n",
      "The sum of numbers from 1 to 100 is: 55\n",
      "The sum of numbers from 1 to 100 is: 66\n",
      "The sum of numbers from 1 to 100 is: 78\n",
      "The sum of numbers from 1 to 100 is: 91\n",
      "The sum of numbers from 1 to 100 is: 105\n",
      "The sum of numbers from 1 to 100 is: 120\n",
      "The sum of numbers from 1 to 100 is: 136\n",
      "The sum of numbers from 1 to 100 is: 153\n",
      "The sum of numbers from 1 to 100 is: 171\n",
      "The sum of numbers from 1 to 100 is: 190\n",
      "The sum of numbers from 1 to 100 is: 210\n",
      "The sum of numbers from 1 to 100 is: 231\n",
      "The sum of numbers from 1 to 100 is: 253\n",
      "The sum of numbers from 1 to 100 is: 276\n",
      "The sum of numbers from 1 to 100 is: 300\n",
      "The sum of numbers from 1 to 100 is: 325\n",
      "The sum of numbers from 1 to 100 is: 351\n",
      "The sum of numbers from 1 to 100 is: 378\n",
      "The sum of numbers from 1 to 100 is: 406\n",
      "The sum of numbers from 1 to 100 is: 435\n",
      "The sum of numbers from 1 to 100 is: 465\n",
      "The sum of numbers from 1 to 100 is: 496\n",
      "The sum of numbers from 1 to 100 is: 528\n",
      "The sum of numbers from 1 to 100 is: 561\n",
      "The sum of numbers from 1 to 100 is: 595\n",
      "The sum of numbers from 1 to 100 is: 630\n",
      "The sum of numbers from 1 to 100 is: 666\n",
      "The sum of numbers from 1 to 100 is: 703\n",
      "The sum of numbers from 1 to 100 is: 741\n",
      "The sum of numbers from 1 to 100 is: 780\n",
      "The sum of numbers from 1 to 100 is: 820\n",
      "The sum of numbers from 1 to 100 is: 861\n",
      "The sum of numbers from 1 to 100 is: 903\n",
      "The sum of numbers from 1 to 100 is: 946\n",
      "The sum of numbers from 1 to 100 is: 990\n",
      "The sum of numbers from 1 to 100 is: 1035\n",
      "The sum of numbers from 1 to 100 is: 1081\n",
      "The sum of numbers from 1 to 100 is: 1128\n",
      "The sum of numbers from 1 to 100 is: 1176\n",
      "The sum of numbers from 1 to 100 is: 1225\n",
      "The sum of numbers from 1 to 100 is: 1275\n",
      "The sum of numbers from 1 to 100 is: 1326\n",
      "The sum of numbers from 1 to 100 is: 1378\n",
      "The sum of numbers from 1 to 100 is: 1431\n",
      "The sum of numbers from 1 to 100 is: 1485\n",
      "The sum of numbers from 1 to 100 is: 1540\n",
      "The sum of numbers from 1 to 100 is: 1596\n",
      "The sum of numbers from 1 to 100 is: 1653\n",
      "The sum of numbers from 1 to 100 is: 1711\n",
      "The sum of numbers from 1 to 100 is: 1770\n",
      "The sum of numbers from 1 to 100 is: 1830\n",
      "The sum of numbers from 1 to 100 is: 1891\n",
      "The sum of numbers from 1 to 100 is: 1953\n",
      "The sum of numbers from 1 to 100 is: 2016\n",
      "The sum of numbers from 1 to 100 is: 2080\n",
      "The sum of numbers from 1 to 100 is: 2145\n",
      "The sum of numbers from 1 to 100 is: 2211\n",
      "The sum of numbers from 1 to 100 is: 2278\n",
      "The sum of numbers from 1 to 100 is: 2346\n",
      "The sum of numbers from 1 to 100 is: 2415\n",
      "The sum of numbers from 1 to 100 is: 2485\n",
      "The sum of numbers from 1 to 100 is: 2556\n",
      "The sum of numbers from 1 to 100 is: 2628\n",
      "The sum of numbers from 1 to 100 is: 2701\n",
      "The sum of numbers from 1 to 100 is: 2775\n",
      "The sum of numbers from 1 to 100 is: 2850\n",
      "The sum of numbers from 1 to 100 is: 2926\n",
      "The sum of numbers from 1 to 100 is: 3003\n",
      "The sum of numbers from 1 to 100 is: 3081\n",
      "The sum of numbers from 1 to 100 is: 3160\n",
      "The sum of numbers from 1 to 100 is: 3240\n",
      "The sum of numbers from 1 to 100 is: 3321\n",
      "The sum of numbers from 1 to 100 is: 3403\n",
      "The sum of numbers from 1 to 100 is: 3486\n",
      "The sum of numbers from 1 to 100 is: 3570\n",
      "The sum of numbers from 1 to 100 is: 3655\n",
      "The sum of numbers from 1 to 100 is: 3741\n",
      "The sum of numbers from 1 to 100 is: 3828\n",
      "The sum of numbers from 1 to 100 is: 3916\n",
      "The sum of numbers from 1 to 100 is: 4005\n",
      "The sum of numbers from 1 to 100 is: 4095\n",
      "The sum of numbers from 1 to 100 is: 4186\n",
      "The sum of numbers from 1 to 100 is: 4278\n",
      "The sum of numbers from 1 to 100 is: 4371\n",
      "The sum of numbers from 1 to 100 is: 4465\n",
      "The sum of numbers from 1 to 100 is: 4560\n",
      "The sum of numbers from 1 to 100 is: 4656\n",
      "The sum of numbers from 1 to 100 is: 4753\n",
      "The sum of numbers from 1 to 100 is: 4851\n",
      "The sum of numbers from 1 to 100 is: 4950\n",
      "The sum of numbers from 1 to 100 is: 5050\n"
     ]
    }
   ],
   "source": [
    " #Use range as a loop to calculate the sum of all the numbers from 1 to 100\n",
    "total_sum = 0\n",
    "for number in range(1, 101):\n",
    "    total_sum += number \n",
    "    print(\"The sum of numbers from 1 to 100 is:\", total_sum)"
   ]
  },
  {
   "cell_type": "code",
   "execution_count": 30,
   "metadata": {},
   "outputs": [
    {
     "name": "stdout",
     "output_type": "stream",
     "text": [
      "Banana\n"
     ]
    }
   ],
   "source": [
    " #Print the second item in this fruits list. [\"apple\", \"banana\", \"cherry\"]\n",
    "\n",
    "fruits = [\"Apple\", \"Banana\", \"Cherry\"]\n",
    "print(fruits[1])"
   ]
  },
  {
   "cell_type": "code",
   "execution_count": 31,
   "metadata": {},
   "outputs": [
    {
     "name": "stdout",
     "output_type": "stream",
     "text": [
      "['Kiwi', 'Banana', 'Cherry']\n"
     ]
    }
   ],
   "source": [
    "#Change the value from \"apple\" to \"kiwi\", in the fruits list. [\"apple\", \"banana\", \"cherry\"]\n",
    "fruits = [\"Apple\", \"Banana\", \"Cherry\"]\n",
    "fruits[0]=\"Kiwi\"\n",
    "\n",
    "print(fruits)\n"
   ]
  },
  {
   "cell_type": "code",
   "execution_count": 33,
   "metadata": {},
   "outputs": [
    {
     "name": "stdout",
     "output_type": "stream",
     "text": [
      "['Apple', 'Banana', 'Cherry', 'Orange']\n"
     ]
    }
   ],
   "source": [
    "#Use the append method to add \"orange\" to the fruits list. [\"apple\", \"banana\", \"cherry\"]\n",
    "fruits = [\"Apple\", \"Banana\", \"Cherry\"]\n",
    "fruits.append(\"Orange\")\n",
    "print(fruits)"
   ]
  },
  {
   "cell_type": "code",
   "execution_count": 36,
   "metadata": {},
   "outputs": [
    {
     "name": "stdout",
     "output_type": "stream",
     "text": [
      "['Apple', 'Lemon', 'Banana', 'Cherry']\n"
     ]
    }
   ],
   "source": [
    "# Use the insert method to add \"lemon\" as the second item in the fruits list.\n",
    "fruits= [\"Apple\", \"Banana\", \"Cherry\"]\n",
    "fruits.insert(1,\"Lemon\")\n",
    "print(fruits)"
   ]
  },
  {
   "cell_type": "code",
   "execution_count": 37,
   "metadata": {},
   "outputs": [
    {
     "name": "stdout",
     "output_type": "stream",
     "text": [
      "['Apple', 'Cherry']\n"
     ]
    }
   ],
   "source": [
    "#Use the remove method to remove \"banana\" from the fruits list. [\"apple\", \"banana\", \"cherry\"]\n",
    "fruits = [\"Apple\", \"Banana\", \"Cherry\"]\n",
    "fruits.remove(\"Banana\")\n",
    "print(fruits)\n"
   ]
  },
  {
   "cell_type": "code",
   "execution_count": 40,
   "metadata": {},
   "outputs": [
    {
     "name": "stdout",
     "output_type": "stream",
     "text": [
      "third item: Cherry\n",
      "second to last item: Melon\n"
     ]
    }
   ],
   "source": [
    "#Use negative indexing to print the 3rd and 2nd to last items in the list. [\"apple\", \"banana\", \"cherry\", \"orange\", \"kiwi\", \"melon\", \"mango\"]\n",
    "fruits = [\"Apple\", \"Banana\", \"Cherry\", \"Orange\", \"Kiwi\", \"Melon\", \"Mango\"]\n",
    "print(\"third item:\" , fruits[2])\n",
    "print(\"second to last item:\" , fruits[-2])"
   ]
  },
  {
   "cell_type": "code",
   "execution_count": 41,
   "metadata": {},
   "outputs": [
    {
     "name": "stdout",
     "output_type": "stream",
     "text": [
      "['Cherry', 'Orange', 'Kiwi']\n"
     ]
    }
   ],
   "source": [
    "# Use a range of indexes to print the third, fourth, and fifth item in the list. [\"apple\", \"banana\", \"cherry\", \"orange\", \"kiwi\", \"melon\", \"mango\"\n",
    "fruits = [\"Apple\", \"Banana\", \"Cherry\", \"Orange\", \"Kiwi\", \"Melon\", \"Mango\"]\n",
    "selected = fruits[2:5]\n",
    "print(selected)"
   ]
  },
  {
   "cell_type": "code",
   "execution_count": 45,
   "metadata": {},
   "outputs": [
    {
     "name": "stdout",
     "output_type": "stream",
     "text": [
      "7\n"
     ]
    }
   ],
   "source": [
    "# Use the correct syntax to print the number of items in the list. [\"apple\", \"banana\", \"cherry\", \"orange\", \"kiwi\", \"melon\", \"mango\"]\n",
    "\n",
    "fruits = [\"Apple\", \"Banana\", \"Cherry\", \"Orange\", \"Kiwi\", \"Melon\", \"Mango\"]\n",
    "list_total = len(fruits)\n",
    "print(list_total)"
   ]
  },
  {
   "cell_type": "code",
   "execution_count": 46,
   "metadata": {},
   "outputs": [
    {
     "name": "stdout",
     "output_type": "stream",
     "text": [
      "['Orange', 'Melon', 'Mango', 'Kiwi', 'Cherry', 'Banana', 'Apple']\n"
     ]
    }
   ],
   "source": [
    "#14. Use the correct syntax to sort this list in reverse order [\"apple\", \"banana\", \"cherry\", \"orange\", \"kiwi\", \"melon\", \"mango\"]\n",
    "fruits = [\"Apple\", \"Banana\", \"Cherry\", \"Orange\", \"Kiwi\", \"Melon\", \"Mango\"]\n",
    "fruits.sort(reverse=True)\n",
    "print(fruits)"
   ]
  },
  {
   "cell_type": "code",
   "execution_count": 49,
   "metadata": {},
   "outputs": [
    {
     "name": "stdout",
     "output_type": "stream",
     "text": [
      "<class 'datetime.datetime'>\n",
      "2024-08-12 02:38:03.847147\n",
      "August\n"
     ]
    }
   ],
   "source": [
    "#Use the DateTime module to get Current Date and Time, and save it to a variable. Then extract just the Full month name form that variable.\n",
    "from datetime import datetime\n",
    "print(datetime)\n",
    "current_datetime = datetime.now()\n",
    "print(current_datetime)\n",
    "Month_Name = current_datetime.strftime(\"%B\")\n",
    "print(Month_Name)"
   ]
  },
  {
   "cell_type": "code",
   "execution_count": 60,
   "metadata": {},
   "outputs": [
    {
     "name": "stdout",
     "output_type": "stream",
     "text": [
      "Monday\n",
      "Dee\n",
      "Hi Dee! Happy Monday!\n"
     ]
    }
   ],
   "source": [
    "#Write a simple function that takes 2 parameters -- a  first name and a day name.\n",
    "#- Set a default value for the day name of Sunday.\n",
    "#- Have the function print out a greeting -- using the parameters -- that says something like \"Hi first-name! Happy day-name!\". Remember to use the variables in the greeting to replace first-name and day-name.  \n",
    "#- Invoke this function with 2 variables.\n",
    "#- Invoke this function with 1 variable only.\n",
    "\n",
    "Day_Name = \"Monday\"\n",
    "print(Day_Name)\n",
    "\n",
    "First_name = \"Dee\"\n",
    "print(First_name)\n",
    "\n",
    "print(f\"Hi {First_name}! Happy {Day_Name}!\")\n",
    "\n",
    "\n"
   ]
  },
  {
   "cell_type": "code",
   "execution_count": null,
   "metadata": {},
   "outputs": [],
   "source": [
    "#Write a block of code to handle one of the most common Python exception errors. Select one of the common errors from the curriculum section on Python Exception handling. Have your code example uses the `try`,`except`, `else`, and `finally` components.\n"
   ]
  }
 ],
 "metadata": {
  "kernelspec": {
   "display_name": "Python 3",
   "language": "python",
   "name": "python3"
  },
  "language_info": {
   "codemirror_mode": {
    "name": "ipython",
    "version": 3
   },
   "file_extension": ".py",
   "mimetype": "text/x-python",
   "name": "python",
   "nbconvert_exporter": "python",
   "pygments_lexer": "ipython3",
   "version": "3.12.4"
  }
 },
 "nbformat": 4,
 "nbformat_minor": 2
}
