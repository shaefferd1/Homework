{
 "cells": [
  {
   "cell_type": "markdown",
   "metadata": {},
   "source": [
    " 7.1 HW Questions \n",
    "\n",
    "\n",
    "1. Using EVregistry, Write a query to select the `ModelYear`, `Make`, and `Model` off all of the vehicles in the registry.\n",
    "2. Using the EVRegistry table, Write a query that lists all of the unique types of EV's. your reult set should have one column, `ElectricVehicleType`. \n",
    "3. Using the EVRegistry, Write a query that shows all of the information on Battery Electric Vehicles (BEV) that are in the registry. \n",
    "4. Using the EVRegistry, wirte a query that returns the `Make` and `Model` of all of the EV's that have a BaseMSRP between 20000 and 35000?  \n"
   ]
  },
  {
   "cell_type": "code",
   "execution_count": null,
   "metadata": {},
   "outputs": [],
   "source": [
    "#1. Using EVregistry, Write a query to select the `ModelYear`, `Make`, and `Model` off all of the vehicles in the registry.\n",
    "\n",
    "SELECT ModelYear, Make, Model\n",
    "FROM EVRegistry"
   ]
  },
  {
   "cell_type": "code",
   "execution_count": null,
   "metadata": {},
   "outputs": [],
   "source": [
    "#2. Using the EVRegistry table, Write a query that lists all of the unique types of EV's. your reult set should have one column, `ElectricVehicleType`. \n",
    "\n",
    "SELECT DISTINCT ElectricVehicleType\n",
    "FROM EVRegistry\n"
   ]
  },
  {
   "cell_type": "code",
   "execution_count": null,
   "metadata": {},
   "outputs": [],
   "source": [
    "#3. Using the EVRegistry, Write a query that shows all of the information on Battery Electric Vehicles (BEV) that are in the registry. \n",
    "\n",
    "SELECT *\n",
    "FROM EVRegistry\n",
    "WHERE ElectricVehicleType ='Battery Electric Vehicle (BEV)'"
   ]
  },
  {
   "cell_type": "code",
   "execution_count": null,
   "metadata": {},
   "outputs": [],
   "source": [
    "#4. Using the EVRegistry, wirte a query that returns the `Make` and `Model` of all of the EV's that have a BaseMSRP between 20000 and 35000?  \n",
    "\n",
    "SELECT MAKE, Model\n",
    "FROM EVRegistry\n",
    "WHERE BaseMSRP BETWEEN 20000 AND 30000"
   ]
  },
  {
   "cell_type": "markdown",
   "metadata": {},
   "source": [
    " 7.2 HW Questions \n",
    "\n",
    "1. Using EVRegistry, write a query to find a record  where the `City` attribute is NULL. Return all of the available columns. \n",
    "2. Write a query to find the `make`, `model`, and `ElectricVehicleType` where the VIN number has  that ends in '3E1EA1J'.\n",
    "3. Select the `ModelYear`, `make`, `model`, `ElectricVehicleType`, and `range` of the Tesla vehicles or cheverolet vehicles in the registry. Order the result set by Make and Model year in from newest to oldest. \n",
    "4. Using EVCharging, Write a query to find out how many many times those stations were used. Order them by the most used to the least used and limit the output to 5 records. \n",
    "5.  Using EVCharging, For the folks who charged longer than 0.5 hours, show the min and max of the charging time for each user. Your output columns should be `userid`, `minTime`, and `maxTime`. Order this result set by the last two columns respectively. "
   ]
  },
  {
   "cell_type": "code",
   "execution_count": null,
   "metadata": {},
   "outputs": [],
   "source": [
    "#1. Using EVRegistry, write a query to find a record  where the `City` attribute is NULL. Return all of the available columns. \n",
    "\n",
    "SELECT *\n",
    "FROM EVRegistry\n",
    "WHERE CITY IS NULL;"
   ]
  },
  {
   "cell_type": "code",
   "execution_count": null,
   "metadata": {},
   "outputs": [],
   "source": [
    "#2. Write a query to find the `make`, `model`, and `ElectricVehicleType` where the VIN number has  that ends in '3E1EA1J'.\n",
    "\n",
    "SELECT MAKE, MODEL, ElectricVehicleType, VIN\n",
    "FROM EVRegistry\n",
    "WHERE VIN LIKE '%3E1EA1J%';"
   ]
  },
  {
   "cell_type": "code",
   "execution_count": null,
   "metadata": {},
   "outputs": [],
   "source": [
    "#3. Select the `ModelYear`, `make`, `model`, `ElectricVehicleType`, and `range` of the Tesla vehicles or cheverolet vehicles in the registry. Order the result set by Make and Model year in from newest to oldest. \n",
    "\n",
    "SELECT ModelYear, MAKE, MODEL, ElectricVehicleType, ElectricRange\n",
    "FROM EVRegistry\n",
    "WHERE MAKE = 'TESLA' OR 'CHEVROLET'\n",
    "GROUP BY Model\n",
    "ORDER BY ModelYear"
   ]
  },
  {
   "cell_type": "code",
   "execution_count": null,
   "metadata": {},
   "outputs": [],
   "source": [
    "#4. Using EVCharging, Write a query to find out how many many times those stations were used. Order them by the most used to the least used and limit the output to 5 records. \n",
    "\n",
    "SELECT stationId, COUNT(*) AS 'TOTAL_USAGE'\n",
    "FROM EVCharging\n",
    "GROUP BY stationId\n",
    "ORDER BY TOTAL_USAGE DESC\n",
    "LIMIT 5"
   ]
  },
  {
   "cell_type": "code",
   "execution_count": null,
   "metadata": {},
   "outputs": [],
   "source": [
    "#5. Using EVCharging, For the folks who charged longer than 0.5 hours, show the min and max of the charging time for each user. Your output columns should be `userid`, `minTime`, and `maxTime`. Order this result set by the last two columns respectively. \n",
    "\n",
    "SELECT userId, MIN(chargeTimeMins), MAX(chargeTimeMins) \n",
    "FROM EVCharging\n",
    "WHERE chargeTimeMins >30\n",
    "GROUP BY userId\n",
    "ORDER BY MIN(chargeTimeMins), max(chargeTimeMins) DESC"
   ]
  },
  {
   "cell_type": "markdown",
   "metadata": {},
   "source": [
    "Section 7.3\n",
    "1. Using EVCharging, Which day of the week has the highest average charging time? Round the answer to 2 decimal points.\n",
    "2. Using, EV charging, Find the total power consumed from charging EV's by each User. Return the `userId` and name the calculated column, `totalPower`. Round the answer to 2 deciaml points and list the out put in highest to lowest order. Limit the order to the top 15 users. \n",
    "3. Using dimfacility and factCharge, write a query to find out which type of facility (GROUP BY) has the most amount of charging stations. Return `type Facility` and name the calculated column `numStation`. Order the result set from highest to lowest number of charging stations.  \n",
    "4. In your own words, Briefly explain Primary Keys and Foreign Keys. \n",
    "5. Using EV Charging, For the folks who charged longer than one hour, show the min and max of the charging time for each user. Your output columns should be `userid`, `minTime`, and `maxTime`. Order this result set by the last two columns respectively. HINT: USE `HAVING`"
   ]
  },
  {
   "cell_type": "code",
   "execution_count": null,
   "metadata": {},
   "outputs": [],
   "source": [
    "#1. Using EVCharging, Which day of the week has the highest average charging time? Round the answer to 2 decimal points.\n",
    "\n",
    "SELECT AVG(round(chargeTimeMins, 2)) AS AVERAGECHARGETIME, weekday\n",
    "FROM EVCharging\n",
    "GROUP BY weekday\n",
    "ORDER BY chargeTimeHrs ASC"
   ]
  },
  {
   "cell_type": "code",
   "execution_count": null,
   "metadata": {},
   "outputs": [],
   "source": [
    "#2. Using, EV charging, Find the total power consumed from charging EV's by each User. Return the `userId` and name the calculated column, `totalPower`. Round the answer to 2 deciaml points and list the out put in highest to lowest order. Limit the order to the top 15 users. \n",
    "\n",
    "SELECT userId, ROUND(SUM(kwhTotal), 2) AS totalPower\n",
    "FROM EVCharging\n",
    "GROUP BY userId\n",
    "ORDER BY totalPower ASC;\n"
   ]
  },
  {
   "cell_type": "code",
   "execution_count": null,
   "metadata": {},
   "outputs": [],
   "source": [
    "-- #3. Using dimfacility and factCharge, write a query to find out which type of facility (GROUP BY) has the most amount of charging stations. Return `type Facility` and name the calculated column `numStation`. Order the result set from highest to lowest number of charging stations.  \n",
    "\n",
    "\n",
    "select DISTINCT facilityType as 'type facility', count(stationId) as 'Num Station', locationId\n",
    "from EVCharging\n",
    "group by facilityType\n",
    "order by stationId DESC"
   ]
  },
  {
   "cell_type": "code",
   "execution_count": null,
   "metadata": {},
   "outputs": [],
   "source": [
    "#4. In your own words, Briefly explain Primary Keys and Foreign Keys. \n",
    "# Primary keys contain information from an original source located in a database (main column). Foreign keys contain information located in a secondary database that is dependent on the information contained in a primary key (secondary or location dependent on the primary). \n"
   ]
  },
  {
   "cell_type": "code",
   "execution_count": null,
   "metadata": {},
   "outputs": [],
   "source": [
    "#5. Using EV Charging, For the folks who charged longer than one hour, show the min and max of the charging time for each user. Your output columns should be `userid`, `minTime`, and `maxTime`. Order this result set by the last two columns respectively. HINT: USE `HAVING`\n",
    "\n",
    "SELECT userId,\n",
    "       MIN(chargeTimeHrs) AS minTime,\n",
    "       MAX(chargeTimeHrs) AS maxTime\n",
    "FROM EVCharging\n",
    "GROUP BY userId\n",
    "HAVING SUM(chargeTimeHrs) > 1\n",
    "ORDER BY minTime, maxTime;"
   ]
  }
 ],
 "metadata": {
  "kernelspec": {
   "display_name": "Python 3",
   "language": "python",
   "name": "python3"
  },
  "language_info": {
   "name": "python",
   "version": "3.12.4"
  }
 },
 "nbformat": 4,
 "nbformat_minor": 2
}
