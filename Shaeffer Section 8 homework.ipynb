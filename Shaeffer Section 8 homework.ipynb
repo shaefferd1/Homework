{
 "cells": [
  {
   "cell_type": "code",
   "execution_count": null,
   "metadata": {},
   "outputs": [],
   "source": [
    "1.5\n",
    "SELECT Accel FROM evCars;\n"
   ]
  },
  {
   "cell_type": "code",
   "execution_count": null,
   "metadata": {},
   "outputs": [],
   "source": [
    "1.1\n",
    "SELECT Accel FROM evCars"
   ]
  },
  {
   "cell_type": "markdown",
   "metadata": {},
   "source": [
    "1.2\n",
    "RTRIM(Accel, 'sec')\n"
   ]
  },
  {
   "cell_type": "markdown",
   "metadata": {},
   "source": [
    "1.3\n",
    "SELECT Accel, RTRIM(Accel, '  sec') \n",
    "FROM evCars"
   ]
  },
  {
   "cell_type": "markdown",
   "metadata": {},
   "source": [
    "1.4 Update the records\n",
    "UPDATE evCars \n",
    "SET Accel = RTRIM(Accel, ' sec')"
   ]
  },
  {
   "cell_type": "markdown",
   "metadata": {},
   "source": [
    "1.5 Check Your Work\n",
    "SELECT Accel FROM evCars;"
   ]
  },
  {
   "cell_type": "markdown",
   "metadata": {},
   "source": [
    "1.6 Rename the Column\n",
    "ALTER TABLE evCars\n",
    " RENAME Accel TO AccelSec"
   ]
  },
  {
   "cell_type": "code",
   "execution_count": null,
   "metadata": {},
   "outputs": [],
   "source": [
    "2.1 Review the Column\n",
    "SELECT columnname FROM tablename;\n"
   ]
  },
  {
   "cell_type": "markdown",
   "metadata": {},
   "source": [
    "2.2 Selecting the Correct String \n",
    "-- SELECT TopSpeed\n",
    "-- FROM evCars\n",
    "-- LIMIT 10\n",
    "\n",
    "SELECT  Range\n",
    "FROM evCars\n",
    "LIMIT 10\n",
    "\n",
    "select FastCharge from evCars\n"
   ]
  },
  {
   "cell_type": "markdown",
   "metadata": {},
   "source": [
    "2.3\n",
    "SELECT TopSpeed, RTRIM(TopSpeed, ' km/h ') \n",
    "FROM evCars\n",
    "\n",
    "-- SELECT  Range\n",
    "-- FROM evCars\n",
    "-- LIMIT 10\n",
    "\n",
    "select Efficiency from evCars\n",
    "\n",
    "select FastCharge from evCars\n"
   ]
  },
  {
   "cell_type": "markdown",
   "metadata": {},
   "source": [
    "2.4\n",
    "UPDATE evCars \n",
    "SET TopSpeed = RTRIM(TopSpeed, ' km/h')\n",
    "\n",
    "UPDATE evCars \n",
    "SET Range = RTRIM(Range, ' km')\n",
    "\n",
    "update evCars\n",
    "set range = Rtrim(Efficiency, ' Wh/km ')\n",
    "\n",
    "update evCars\n",
    "-- SET Efficiency = rtrim (Efficiency, 'Wh/km')"
   ]
  },
  {
   "cell_type": "code",
   "execution_count": null,
   "metadata": {},
   "outputs": [],
   "source": [
    "2.5 Check you work\n",
    "\n",
    "Select TopSpeed from evCars\n",
    "select range from evCars\n",
    "select FastCharge from evCars"
   ]
  },
  {
   "cell_type": "markdown",
   "metadata": {},
   "source": [
    "2.6 Convert the units to MPH\n",
    "SELECT TopSpeed\n",
    "from evCars\n",
    "\n",
    "update evCars\n",
    "set TopSpeed = TopSpeed *0.621371;\n",
    "\n",
    "select TopSpeed, TopSpeed*(0.621371, 2) as \"Top Speed MPH\"\n",
    "From evCars"
   ]
  },
  {
   "cell_type": "markdown",
   "metadata": {},
   "source": [
    "- 2.7 Rename the column\n",
    "ALTER TABLE evCars\n",
    "RENAME TopSpeed TO topSpeedMPH"
   ]
  },
  {
   "cell_type": "markdown",
   "metadata": {},
   "source": [
    "2.8 Select All of the records to get a look at the whole table with your recent changes.\n",
    "SELECT * \n",
    "FROM evCars \n"
   ]
  },
  {
   "cell_type": "markdown",
   "metadata": {},
   "source": [
    "3.1 - 3.7\n",
    "-- select range\n",
    "-- from evCars\n",
    "\n",
    "UPDATE evCars \n",
    "SET Range = RTRIM(Range, ' km')\n",
    "\n",
    "select range\n",
    "from evCars\n",
    "\n",
    "-- UPDATE EVcars \n",
    "-- SET Range = ROUND(Range * 0.621371, 1)\n",
    "\n",
    "select range\n",
    "from evCars\n",
    "\n",
    "-- Alter table evCars\n",
    "-- rename Range to rangeMiles"
   ]
  },
  {
   "cell_type": "markdown",
   "metadata": {},
   "source": [
    "4.1 -4 .7\n",
    "select Efficiency from evCars\n",
    "\n",
    "UPDATE EVcars \n",
    "SET Efficiency = ROUND(Efficiency * 0.621371, 1)\n",
    "\n",
    "select Efficiency from evCars\n",
    "\n",
    "Alter table evCars\n",
    "rename Efficiency to efficiencyWHperKM\n",
    "\n",
    "select FastCharge from evCars\n",
    "\n",
    "UPDATE EVcars \n",
    "SET FastCharge = ROUND(FastCharge * 0.621371, 1)\n",
    "\n",
    "SELECT FastCharge from evCars\n",
    "\n",
    "Alter table evCars\n",
    "rename FastCharge to 'OneHourFastChargeMiles'\n"
   ]
  },
  {
   "cell_type": "markdown",
   "metadata": {},
   "source": [
    "5.1\n",
    "SELECT RapidCharge, Count(*)\n",
    "FROM evCars\n",
    "GROUP BY RapidCharge"
   ]
  },
  {
   "cell_type": "markdown",
   "metadata": {},
   "source": [
    "5.2 \n",
    "UPDATE evCars\n",
    "SET RapidCharge = CASE\n",
    "    WHEN RapidCharge = > 400 THEN TRUE\n",
    "    WHEN RapidCharge = < 400 THEN FALSE\n",
    "  \n",
    "END;"
   ]
  },
  {
   "cell_type": "markdown",
   "metadata": {},
   "source": [
    "5.3 \n",
    "\n",
    "For the purpose of this exercise, if the car's RapidCharge value equals _____>_400___________ then I want you to change the value to 'Yes'\n",
    "If the RapidCharge value equals _________< 400______ then I want you to change the value to 'No'.\n"
   ]
  },
  {
   "cell_type": "markdown",
   "metadata": {},
   "source": [
    "6.1 \n",
    "select PowerTrain from evCars"
   ]
  },
  {
   "cell_type": "markdown",
   "metadata": {},
   "source": [
    "6.2\n",
    "If the PowerTrain equals _____All Wheel Drive_________ then I want you to change the value to 'AWD'\n",
    "If the PowerTrain equals ____Rear Wheel Drive__________ then I want you to change the value to 'RWD'\n",
    "If the PowerTrain equals _____Front Wheel Drive_________ then I want you to change the value to 'FWD'"
   ]
  },
  {
   "cell_type": "markdown",
   "metadata": {},
   "source": [
    "6.3 -6.4\n",
    "select PowerTrain from evCars\n",
    "\n",
    "UPDATE evCars \n",
    "set PowerTrain = 'RWD'\n",
    "where PowerTrain = 'Rear Wheel Drive';\n",
    "\n",
    "select PowerTrain from evCars\n",
    "\n",
    "UPDATE evCars\n",
    "set PowerTrain = \"FWD\"\n",
    "where PowerTrain = 'Front Wheel Drive'\n",
    "\n",
    "select PowerTrain from evCars"
   ]
  },
  {
   "cell_type": "markdown",
   "metadata": {},
   "source": [
    "7.1-7.3\n",
    "select PriceEuro from evCars\n",
    "\n",
    "Update evCars\n",
    "set PriceEuro * 1.09\n",
    "\n",
    "UPDATE evCars\n",
    "SET PriceEuro = Round(PriceEuro * 1.09, 2)\n",
    "\n",
    "Alter table evCars\n",
    "rename PriceEuro to 'PriceUSD'\n",
    "\n",
    "\n",
    "UPDATE evCars\n",
    "SET PriceUSD = Round(PriceUSD * 1.09, 2)"
   ]
  }
 ],
 "metadata": {
  "kernelspec": {
   "display_name": "Python 3",
   "language": "python",
   "name": "python3"
  },
  "language_info": {
   "name": "python",
   "version": "3.12.4"
  }
 },
 "nbformat": 4,
 "nbformat_minor": 2
}
