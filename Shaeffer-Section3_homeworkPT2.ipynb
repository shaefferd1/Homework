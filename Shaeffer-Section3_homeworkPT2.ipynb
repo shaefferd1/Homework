{
 "cells": [
  {
   "cell_type": "code",
   "execution_count": null,
   "metadata": {},
   "outputs": [],
   "source": [
    "# Python Homework (Data Types) \n",
    "\n",
    "**Note**: You can create a Python file or a Jupyter Notebook file\n",
    "\n",
    "<br>\n",
    "\n",
    "#### Data Types:\n",
    "\n",
    "<ins>Use markdown formatting for the following questions (e.g., bold lettering, bullet points, different font sizes, etc.)</ins>: \n",
    "\n",
    "1. What is an algorithm?\n",
    "## An algorithm is a series of steps to solve a problem at hand; these represent a solution in a program can be followed by a computer.\n",
    "\n",
    "2. Variable names may not start with certain characters - name two.\n",
    "## Variable names may not start with the following:\n",
    "    1. A Number \n",
    "    2. An underscore\n",
    "\n",
    "3. What is a Semantic error?\n",
    "## A Semantic error is\n",
    "\n",
    "4. What is the #1 rule of coding / debugging?\n",
    "## The number one rule of coding / debugging is Complexity is the enemy of efficicency. \n",
    "\n",
    "5. List 5 Python reserved words.\n",
    "## Five Python reserved words are:\n",
    "    1. True\n",
    "    2. False\n",
    "    3. None\n",
    "    4. Except \n",
    "    5. Continue \n",
    "\n",
    "\n",
    "<br>\n",
    "\n",
    "<ins>Open a code cell in your Jupyter Notebook and write the following code</ins>:\n",
    "\n",
    "6. Write a multi-line string with your name, favorite food, and dream job on 3 different lines\n",
    "7. Assign 5 different data types to 5 different variables. At least one datatype must be a string  \n",
    "    - Print the length of your string\n",
    "    - Print the index value of the 4th character in your string\n",
    "8. Create a new variable called savvy, and assign it the string with this phrase \"Learning Data Analytics and Python is Awesome!\"\n",
    "    - Return a range of characters that slices the above string from the beginning of  \"ing\" up to before \"and\"\n",
    "    - Replace \"Awesome\" with \"great\" in the string\n",
    "    - Test and print the savvy string to see it contains \"Python\"\n",
    "9. Create and assign 3 more variables called name, age and length using the multi-variable  naming method\n",
    "    - Format a new string called 'miniBio' using variables in curly brackets to complete this phrase... \"Hi my name is (name), I am (tall) and (so) old today.\"\n",
    "    - Print 'miniBio'\n",
    "    - Cast and print the age variable to a float\n",
    "\n",
    "\n",
    "\n",
    "\n",
    "<br>\n",
    "\n",
    "#### Complex Data Types:\n",
    "\n",
    "<br>\n",
    "\n",
    "10. Create a list of at least 5 elements of mixed data types\n",
    "    - Replace a part of it with something else\n",
    "    - Append or insert several more items to the list\n",
    "    - Find and print the length of the list\n",
    "    - Slice a sub-section of the 1st list, and save it to a different 2nd list\n",
    "    - Print the 2nd list\n",
    "    - Extend your original list with the 2nd list sliced above\n",
    "    - Create a new list called \"simList\" containing at least 5 elements of the same data type, either string, integer, float, or Boolean\n",
    "    - Sort \"simList\", and print the list\n",
    "    - Copy the \"simList\" list to another 3rd list\n",
    "    - Add the 2nd and 3rd lists together into a 4th list\n",
    "\n",
    "\n",
    "\n",
    "<br>\n",
    "\n",
    "11. Create a tuple of about 5 elements\n",
    "    - Multiply your tuple by 3 and save it to a new 2nd tuple\n",
    "    - Access and print the 12th element from the 2nd tuple\n",
    "    - Sort the 2nd tuple and print it\n",
    "    - Copy 4 specific elements from your 2nd tuple to a new 3nd tuple\n",
    "    - Unpack the 3rd tuple into 4 variables and print these variables\n",
    "    - Create a 4th tuple with single item 50 and print this tuple\n",
    "    - Add the 2nd and 3rd tuple together into a 5th tuple and print the tuple\n",
    "\n",
    "<br>\n",
    "\n",
    "12. Create a set of about 3 elements\n",
    "    - Add a list of fruits to the above set and print the result\n",
    "    - Add a car element to your set\n",
    "    - Create a 2nd set with a few odd items\n",
    "    - Save the union of 1st set and 2nd set to a 3rd set\n",
    "    - Pop an element from the 2nd set, and print the remainder of the set\n",
    "    - Clear the 1st set and print the result\n",
    "    - Discard an element, and remove another element from the 3rd set\n",
    "    - Print the remainder of the 3rd set\n",
    "\n",
    "<br>\n",
    "\n",
    "13. Create a dictionary with at least 5 values of different data types\n",
    "    - Print out 1 value\n",
    "    - Replace any one value in your dictionary with your name\n",
    "    - Add your favorite color to the dictionary\n",
    "    - Add a list, tuple or set to your dictionary\n",
    "    - Print a list of the dictionary keys\n",
    "    - Print a list of the dictionary values\n",
    "    - Copy your 1st dictionary into a 2nd dictionary\n",
    "    - Pop an item from the 2nd dictionary, and print the dictionary\n",
    "    - Remove all the elements from the 2nd dictionary and print the result\n",
    "\n",
    "<br>\n",
    "\n",
    "#### When done with homework:\n",
    "- **Due Date**: The following Monday before class\n",
    "- Make sure your homework file is well named\n",
    "- Add the homework to your Homework repo\n",
    "- Use  `git add .`, `git commit -m \"message\"`, and `git push` to upload your homework changes to GitHub in the cloud\n",
    "- Create a JIRA ticket to indicate that your Homework is ready for review:\n",
    "    - <ins> In the \"Summary\" box</ins>: Include First Name and Last Initial, plus a short description in the Summary box (Ex: Jane D. Week # Homework Complete)\n",
    "    - <ins> In the \"Description\" box</ins>: Include GitHub repo url \n",
    "\n",
    "<br>\n",
    "\n",
    "------------------------------------------------------------------------------------\n",
    "\n",
    "<br>\n",
    "\n",
    "#### Final Note: \n",
    "**<ins>Goals from this past week</ins>**: \n",
    "  - Learn about Python, Jupyter Notebooks and VS Code\n",
    "  - Become familiar with Python data types, including complex data types"
   ]
  },
  {
   "cell_type": "code",
   "execution_count": null,
   "metadata": {},
   "outputs": [],
   "source": [
    "\n",
    "<ins>Open a code cell in your Jupyter Notebook and write the following code</ins>:\n",
    "\n",
    "6. Write a multi-line string with your name, favorite food, and dream job on 3 different lines\n",
    "7. Assign 5 different data types to 5 different variables. At least one datatype must be a string  \n",
    "    - Print the length of your string\n",
    "    - Print the index value of the 4th character in your string\n",
    "8. Create a new variable called savvy, and assign it the string with this phrase \"Learning Data Analytics and Python is Awesome!\"\n",
    "    - Return a range of characters that slices the above string from the beginning of  \"ing\" up to before \"and\"\n",
    "    - Replace \"Awesome\" with \"great\" in the string\n",
    "    - Test and print the savvy string to see it contains \"Python\"\n",
    "9. Create and assign 3 more variables called name, age and length using the multi-variable  naming method\n",
    "    - Format a new string called 'miniBio' using variables in curly brackets to complete this phrase... \"Hi my name is (name), I am (tall) and (so) old today.\"\n",
    "    - Print 'miniBio'\n",
    "    - Cast and print the age variable to a float\n",
    "\""
   ]
  },
  {
   "cell_type": "code",
   "execution_count": 25,
   "metadata": {},
   "outputs": [
    {
     "name": "stdout",
     "output_type": "stream",
     "text": [
      "Dee Shaeffer, Cheese Fries, Data/Business Analyst\n",
      "My name is Dee Shaeffer. \n",
      "My favorite food is cheese fries. \n",
      "My dream job is being a data scientist.\n"
     ]
    }
   ],
   "source": [
    "##6\n",
    "string_example = (\"Dee Shaeffer, Cheese Fries, Data/Business Analyst\")\n",
    "print(string_example)\n",
    "\n",
    "About_Me=\"\"\"My name is Dee Shaeffer. \n",
    "My favorite food is cheese fries. \n",
    "My dream job is being a data scientist.\"\"\"\n",
    "print(About_Me)"
   ]
  },
  {
   "cell_type": "code",
   "execution_count": 12,
   "metadata": {},
   "outputs": [
    {
     "name": "stdout",
     "output_type": "stream",
     "text": [
      "Rugrats, CatDog, Hey Arnold\n",
      "10\n",
      "33.5\n",
      "True\n",
      "[1, 2, 3, 4, 5]\n",
      "Practice strings make perfect strings!\n",
      "38\n",
      "1\n"
     ]
    }
   ],
   "source": [
    "##7\n",
    "string_variable_example = (\"Rugrats, CatDog, Hey Arnold\")\n",
    "print(string_variable_example)\n",
    "\n",
    "a = (10)\n",
    "print(a)\n",
    "\n",
    "b = (33.5)\n",
    "print(b)\n",
    "\n",
    "c = True\n",
    "print(c)\n",
    "\n",
    "list = [1,2,3,4,5]\n",
    "print(list) \n",
    "\n",
    "string_variable_example2 = (\"Practice strings make perfect strings!\")\n",
    "print(string_variable_example2)\n",
    "print(len(string_variable_example2))\n",
    "print(len(string_variable_example2[4]))\n",
    "\n",
    "\n",
    "\n",
    "\n"
   ]
  },
  {
   "cell_type": "code",
   "execution_count": 18,
   "metadata": {},
   "outputs": [
    {
     "name": "stdout",
     "output_type": "stream",
     "text": [
      "Learning Data Analytics and Python is awesome!\n",
      "ing Data Analytics \n",
      "Learning Data Analytics and Python is great!\n"
     ]
    }
   ],
   "source": [
    "##8\n",
    "savvy = \"Learning Data Analytics and Python is awesome!\"\n",
    "print(savvy)\n",
    "\n",
    "start_index = savvy.find(\"ing\") \n",
    "end_index = savvy.find(\"and\")\n",
    "slice_string = savvy[start_index:end_index]\n",
    "print(slice_string)\n",
    "\n",
    "update = savvy.replace(\"awesome\", \"great\")\n",
    "print(update)\n"
   ]
  },
  {
   "cell_type": "code",
   "execution_count": 39,
   "metadata": {},
   "outputs": [
    {
     "ename": "SyntaxError",
     "evalue": "invalid syntax (1339146660.py, line 2)",
     "output_type": "error",
     "traceback": [
      "\u001b[1;36m  Cell \u001b[1;32mIn[39], line 2\u001b[1;36m\u001b[0m\n\u001b[1;33m    Create and assign 3 more variables called name, age and length using the multi-variable  naming method\u001b[0m\n\u001b[1;37m                      ^\u001b[0m\n\u001b[1;31mSyntaxError\u001b[0m\u001b[1;31m:\u001b[0m invalid syntax\n"
     ]
    }
   ],
   "source": [
    "##9\n",
    "Create and assign 3 more variables called name, age and length using the multi-variable  naming method\n",
    "    - Format a new string called 'miniBio' using variables in curly brackets to complete this phrase... \"Hi my name is (name), I am (tall) and (so) old today.\"\n",
    "    - Print 'miniBio'\n",
    "    - Cast and print the age variable to a float\n",
    "\n",
    "name, age, length = \"Dee Shaeffer\", 33, 5.9\n",
    "\n",
    "name = \"Dee Shaefer\"\n",
    "age = 33\n",
    "length = 5.9\n",
    "miniBio = f\"Hi my name is {name}, I am {length} tall and {age} old today.\"\n",
    "print(miniBio)\n",
    "\n",
    "\n"
   ]
  },
  {
   "cell_type": "code",
   "execution_count": 42,
   "metadata": {},
   "outputs": [
    {
     "name": "stdout",
     "output_type": "stream",
     "text": [
      "Hi my name is Dee Shaeffer, I am 5.9 tall and 33 old today.\n",
      "33.0\n"
     ]
    }
   ],
   "source": [
    "name, age, length = \"Dee Shaeffer\", 33, 5.9\n",
    "miniBio = f\"Hi my name is {name}, I am {length} tall and {age} old today.\"\n",
    "print(miniBio)\n",
    "\n",
    "age_float = float(33)\n",
    "print(age_float)"
   ]
  },
  {
   "cell_type": "code",
   "execution_count": 5,
   "metadata": {},
   "outputs": [],
   "source": [
    "my_dict = {\"peaches\": 12,\n",
    "           \"apples\": 14,\n",
    "           \"watermeon\": 5,\n",
    "           \"cantolaupe\": 7}\n",
    "print=my_dict"
   ]
  },
  {
   "cell_type": "code",
   "execution_count": 13,
   "metadata": {},
   "outputs": [
    {
     "ename": "TypeError",
     "evalue": "'dict' object is not callable",
     "output_type": "error",
     "traceback": [
      "\u001b[1;31m---------------------------------------------------------------------------\u001b[0m",
      "\u001b[1;31mTypeError\u001b[0m                                 Traceback (most recent call last)",
      "Cell \u001b[1;32mIn[13], line 3\u001b[0m\n\u001b[0;32m      1\u001b[0m candy \u001b[38;5;241m=\u001b[39m [\u001b[38;5;124m\"\u001b[39m\u001b[38;5;124msnickers\u001b[39m\u001b[38;5;124m\"\u001b[39m, \u001b[38;5;124m\"\u001b[39m\u001b[38;5;124mtwix\u001b[39m\u001b[38;5;124m\"\u001b[39m, \u001b[38;5;124m\"\u001b[39m\u001b[38;5;124mskittles\u001b[39m\u001b[38;5;124m\"\u001b[39m, \u001b[38;5;124m\"\u001b[39m\u001b[38;5;124mstarburst\u001b[39m\u001b[38;5;124m\"\u001b[39m, \u001b[38;5;124m\"\u001b[39m\u001b[38;5;124mgum\u001b[39m\u001b[38;5;124m\"\u001b[39m]\n\u001b[0;32m      2\u001b[0m \u001b[38;5;28;01mfor\u001b[39;00m item \u001b[38;5;129;01min\u001b[39;00m candy:\n\u001b[1;32m----> 3\u001b[0m     \u001b[38;5;28;43mprint\u001b[39;49m\u001b[43m(\u001b[49m\u001b[43mitem\u001b[49m\u001b[43m)\u001b[49m\n",
      "\u001b[1;31mTypeError\u001b[0m: 'dict' object is not callable"
     ]
    }
   ],
   "source": [
    "candy = [\"snickers\", \"twix\", \"skittles\", \"starburst\", \"gum\"]\n",
    "for item in candy:\n",
    "    print(item)"
   ]
  }
 ],
 "metadata": {
  "kernelspec": {
   "display_name": "Python 3",
   "language": "python",
   "name": "python3"
  },
  "language_info": {
   "codemirror_mode": {
    "name": "ipython",
    "version": 3
   },
   "file_extension": ".py",
   "mimetype": "text/x-python",
   "name": "python",
   "nbconvert_exporter": "python",
   "pygments_lexer": "ipython3",
   "version": "3.12.4"
  }
 },
 "nbformat": 4,
 "nbformat_minor": 2
}
