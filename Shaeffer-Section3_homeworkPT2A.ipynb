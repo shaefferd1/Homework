{
 "cells": [
  {
   "cell_type": "code",
   "execution_count": null,
   "metadata": {},
   "outputs": [],
   "source": [
    "# Python Homework (Data Types) \n",
    "\n",
    "**Note**: You can create a Python file or a Jupyter Notebook file\n",
    "\n",
    "<br>\n",
    "\n",
    "#### Data Types:\n",
    "\n",
    "<ins>Use markdown formatting for the following questions (e.g., bold lettering, bullet points, different font sizes, etc.)</ins>: \n",
    "\n",
    "1. What is an algorithm?\n",
    "## An algorithm is a series of steps to solve a problem at hand; these represent a solution in a program can be followed by a computer.\n",
    "\n",
    "2. Variable names may not start with certain characters - name two.\n",
    "## Variable names may not start with the following:\n",
    "    1. A Number \n",
    "    2. An underscore\n",
    "\n",
    "3. What is a Semantic error?\n",
    "## A Semantic error is\n",
    "\n",
    "4. What is the #1 rule of coding / debugging?\n",
    "## The number one rule of coding / debugging is Complexity is the enemy of efficicency. \n",
    "\n",
    "5. List 5 Python reserved words.\n",
    "## Five Python reserved words are:\n",
    "    1. True\n",
    "    2. False\n",
    "    3. None\n",
    "    4. Except \n",
    "    5. Continue \n",
    "\n",
    "\n",
    "<br>\n",
    "\n",
    "<ins>Open a code cell in your Jupyter Notebook and write the following code</ins>:\n",
    "\n",
    "6. Write a multi-line string with your name, favorite food, and dream job on 3 different lines\n",
    "7. Assign 5 different data types to 5 different variables. At least one datatype must be a string  \n",
    "    - Print the length of your string\n",
    "    - Print the index value of the 4th character in your string\n",
    "8. Create a new variable called savvy, and assign it the string with this phrase \"Learning Data Analytics and Python is Awesome!\"\n",
    "    - Return a range of characters that slices the above string from the beginning of  \"ing\" up to before \"and\"\n",
    "    - Replace \"Awesome\" with \"great\" in the string\n",
    "    - Test and print the savvy string to see it contains \"Python\"\n",
    "9. Create and assign 3 more variables called name, age and length using the multi-variable  naming method\n",
    "    - Format a new string called 'miniBio' using variables in curly brackets to complete this phrase... \"Hi my name is (name), I am (tall) and (so) old today.\"\n",
    "    - Print 'miniBio'\n",
    "    - Cast and print the age variable to a float\n",
    "\n",
    "\n",
    "\n",
    "\n",
    "<br>\n",
    "\n",
    "#### Complex Data Types:\n",
    "\n",
    "<br>\n",
    "\n",
    "10. Create a list of at least 5 elements of mixed data types\n",
    "    - Replace a part of it with something else\n",
    "    - Append or insert several more items to the list\n",
    "    - Find and print the length of the list\n",
    "    - Slice a sub-section of the 1st list, and save it to a different 2nd list\n",
    "    - Print the 2nd list\n",
    "    - Extend your original list with the 2nd list sliced above\n",
    "    - Create a new list called \"simList\" containing at least 5 elements of the same data type, either string, integer, float, or Boolean\n",
    "    - Sort \"simList\", and print the list\n",
    "    - Copy the \"simList\" list to another 3rd list\n",
    "    - Add the 2nd and 3rd lists together into a 4th list\n",
    "\n",
    "\n",
    "\n",
    "<br>\n",
    "\n",
    "11. Create a tuple of about 5 elements\n",
    "    - Multiply your tuple by 3 and save it to a new 2nd tuple\n",
    "    - Access and print the 12th element from the 2nd tuple\n",
    "    - Sort the 2nd tuple and print it\n",
    "    - Copy 4 specific elements from your 2nd tuple to a new 3nd tuple\n",
    "    - Unpack the 3rd tuple into 4 variables and print these variables\n",
    "    - Create a 4th tuple with single item 50 and print this tuple\n",
    "    - Add the 2nd and 3rd tuple together into a 5th tuple and print the tuple\n",
    "\n",
    "<br>\n",
    "\n",
    "12. Create a set of about 3 elements\n",
    "    - Add a list of fruits to the above set and print the result\n",
    "    - Add a car element to your set\n",
    "    - Create a 2nd set with a few odd items\n",
    "    - Save the union of 1st set and 2nd set to a 3rd set\n",
    "    - Pop an element from the 2nd set, and print the remainder of the set\n",
    "    - Clear the 1st set and print the result\n",
    "    - Discard an element, and remove another element from the 3rd set\n",
    "    - Print the remainder of the 3rd set\n",
    "\n",
    "<br>\n",
    "\n",
    "13. Create a dictionary with at least 5 values of different data types\n",
    "    - Print out 1 value\n",
    "    - Replace any one value in your dictionary with your name\n",
    "    - Add your favorite color to the dictionary\n",
    "    - Add a list, tuple or set to your dictionary\n",
    "    - Print a list of the dictionary keys\n",
    "    - Print a list of the dictionary values\n",
    "    - Copy your 1st dictionary into a 2nd dictionary\n",
    "    - Pop an item from the 2nd dictionary, and print the dictionary\n",
    "    - Remove all the elements from the 2nd dictionary and print the result\n",
    "\n",
    "<br>\n",
    "\n",
    "#### When done with homework:\n",
    "- **Due Date**: The following Monday before class\n",
    "- Make sure your homework file is well named\n",
    "- Add the homework to your Homework repo\n",
    "- Use  `git add .`, `git commit -m \"message\"`, and `git push` to upload your homework changes to GitHub in the cloud\n",
    "- Create a JIRA ticket to indicate that your Homework is ready for review:\n",
    "    - <ins> In the \"Summary\" box</ins>: Include First Name and Last Initial, plus a short description in the Summary box (Ex: Jane D. Week # Homework Complete)\n",
    "    - <ins> In the \"Description\" box</ins>: Include GitHub repo url \n",
    "\n",
    "<br>\n",
    "\n",
    "------------------------------------------------------------------------------------\n",
    "\n",
    "<br>\n",
    "\n",
    "#### Final Note: \n",
    "**<ins>Goals from this past week</ins>**: \n",
    "  - Learn about Python, Jupyter Notebooks and VS Code\n",
    "  - Become familiar with Python data types, including complex data types"
   ]
  },
  {
   "cell_type": "code",
   "execution_count": null,
   "metadata": {},
   "outputs": [],
   "source": [
    "\n",
    "<ins>Open a code cell in your Jupyter Notebook and write the following code</ins>:\n",
    "\n",
    "6. Write a multi-line string with your name, favorite food, and dream job on 3 different lines\n",
    "7. Assign 5 different data types to 5 different variables. At least one datatype must be a string  \n",
    "    - Print the length of your string\n",
    "    - Print the index value of the 4th character in your string\n",
    "8. Create a new variable called savvy, and assign it the string with this phrase \"Learning Data Analytics and Python is Awesome!\"\n",
    "    - Return a range of characters that slices the above string from the beginning of  \"ing\" up to before \"and\"\n",
    "    - Replace \"Awesome\" with \"great\" in the string\n",
    "    - Test and print the savvy string to see it contains \"Python\"\n",
    "9. Create and assign 3 more variables called name, age and length using the multi-variable  naming method\n",
    "    - Format a new string called 'miniBio' using variables in curly brackets to complete this phrase... \"Hi my name is (name), I am (tall) and (so) old today.\"\n",
    "    - Print 'miniBio'\n",
    "    - Cast and print the age variable to a float\n",
    "\""
   ]
  },
  {
   "cell_type": "code",
   "execution_count": 25,
   "metadata": {},
   "outputs": [
    {
     "name": "stdout",
     "output_type": "stream",
     "text": [
      "Dee Shaeffer, Cheese Fries, Data/Business Analyst\n",
      "My name is Dee Shaeffer. \n",
      "My favorite food is cheese fries. \n",
      "My dream job is being a data scientist.\n"
     ]
    }
   ],
   "source": [
    "##6\n",
    "string_example = (\"Dee Shaeffer, Cheese Fries, Data/Business Analyst\")\n",
    "print(string_example)\n",
    "\n",
    "About_Me=\"\"\"My name is Dee Shaeffer. \n",
    "My favorite food is cheese fries. \n",
    "My dream job is being a data scientist.\"\"\"\n",
    "print(About_Me)"
   ]
  },
  {
   "cell_type": "code",
   "execution_count": 12,
   "metadata": {},
   "outputs": [
    {
     "name": "stdout",
     "output_type": "stream",
     "text": [
      "Rugrats, CatDog, Hey Arnold\n",
      "10\n",
      "33.5\n",
      "True\n",
      "[1, 2, 3, 4, 5]\n",
      "Practice strings make perfect strings!\n",
      "38\n",
      "1\n"
     ]
    }
   ],
   "source": [
    "##7\n",
    "string_variable_example = (\"Rugrats, CatDog, Hey Arnold\")\n",
    "print(string_variable_example)\n",
    "\n",
    "a = (10)\n",
    "print(a)\n",
    "\n",
    "b = (33.5)\n",
    "print(b)\n",
    "\n",
    "c = True\n",
    "print(c)\n",
    "\n",
    "list = [1,2,3,4,5]\n",
    "print(list) \n",
    "\n",
    "string_variable_example2 = (\"Practice strings make perfect strings!\")\n",
    "print(string_variable_example2)\n",
    "print(len(string_variable_example2))\n",
    "print(len(string_variable_example2[4]))\n",
    "\n",
    "\n",
    "\n",
    "\n"
   ]
  },
  {
   "cell_type": "code",
   "execution_count": 18,
   "metadata": {},
   "outputs": [
    {
     "name": "stdout",
     "output_type": "stream",
     "text": [
      "Learning Data Analytics and Python is awesome!\n",
      "ing Data Analytics \n",
      "Learning Data Analytics and Python is great!\n"
     ]
    }
   ],
   "source": [
    "##8\n",
    "savvy = \"Learning Data Analytics and Python is awesome!\"\n",
    "print(savvy)\n",
    "\n",
    "start_index = savvy.find(\"ing\") \n",
    "end_index = savvy.find(\"and\")\n",
    "slice_string = savvy[start_index:end_index]\n",
    "print(slice_string)\n",
    "\n",
    "update = savvy.replace(\"awesome\", \"great\")\n",
    "print(update)\n"
   ]
  },
  {
   "cell_type": "code",
   "execution_count": 16,
   "metadata": {},
   "outputs": [
    {
     "name": "stdout",
     "output_type": "stream",
     "text": [
      "Hi my name is Dee Shaefer, I am 5.9 tall and 33 old today.\n"
     ]
    }
   ],
   "source": [
    "##9\n",
    "#Create and assign 3 more variables called name, age and length using the multi-variable  naming method\n",
    "#   - Format a new string called 'miniBio' using variables in curly brackets to complete this phrase... \"Hi my name is (name), I am (tall) and (so) old today.\"\n",
    "#   - Print 'miniBio'\n",
    "#   - Cast and print the age variable to a float\n",
    "\n",
    "name, age, length = \"Dee Shaeffer\", 33, 5.9\n",
    "\n",
    "name = \"Dee Shaefer\"\n",
    "age = 33\n",
    "length = 5.9\n",
    "miniBio = f\"Hi my name is {name}, I am {length} tall and {age} old today.\"\n",
    "print(miniBio)\n",
    "\n",
    "\n"
   ]
  },
  {
   "cell_type": "code",
   "execution_count": 42,
   "metadata": {},
   "outputs": [
    {
     "name": "stdout",
     "output_type": "stream",
     "text": [
      "Hi my name is Dee Shaeffer, I am 5.9 tall and 33 old today.\n",
      "33.0\n"
     ]
    }
   ],
   "source": [
    "name, age, length = \"Dee Shaeffer\", 33, 5.9\n",
    "miniBio = f\"Hi my name is {name}, I am {length} tall and {age} old today.\"\n",
    "print(miniBio)\n",
    "\n",
    "age_float = float(33)\n",
    "print(age_float)"
   ]
  },
  {
   "cell_type": "code",
   "execution_count": 26,
   "metadata": {},
   "outputs": [
    {
     "ename": "TypeError",
     "evalue": "'dict' object is not callable",
     "output_type": "error",
     "traceback": [
      "\u001b[1;31m---------------------------------------------------------------------------\u001b[0m",
      "\u001b[1;31mTypeError\u001b[0m                                 Traceback (most recent call last)",
      "Cell \u001b[1;32mIn[26], line 7\u001b[0m\n\u001b[0;32m      1\u001b[0m my_dictionary \u001b[38;5;241m=\u001b[39m {\n\u001b[0;32m      2\u001b[0m     \u001b[38;5;124m\"\u001b[39m\u001b[38;5;124mpeaches\u001b[39m\u001b[38;5;124m\"\u001b[39m: \u001b[38;5;241m12\u001b[39m,\n\u001b[0;32m      3\u001b[0m     \u001b[38;5;124m\"\u001b[39m\u001b[38;5;124mapples\u001b[39m\u001b[38;5;124m\"\u001b[39m: \u001b[38;5;241m14\u001b[39m,\n\u001b[0;32m      4\u001b[0m     \u001b[38;5;124m\"\u001b[39m\u001b[38;5;124mwatermelon\u001b[39m\u001b[38;5;124m\"\u001b[39m: \u001b[38;5;241m5\u001b[39m,  \n\u001b[0;32m      5\u001b[0m     \u001b[38;5;124m\"\u001b[39m\u001b[38;5;124mcantaloupe\u001b[39m\u001b[38;5;124m\"\u001b[39m: \u001b[38;5;241m7\u001b[39m,   \n\u001b[0;32m      6\u001b[0m }\n\u001b[1;32m----> 7\u001b[0m \u001b[38;5;28;43mprint\u001b[39;49m\u001b[43m(\u001b[49m\u001b[43mmy_dictionary\u001b[49m\u001b[43m)\u001b[49m\n",
      "\u001b[1;31mTypeError\u001b[0m: 'dict' object is not callable"
     ]
    }
   ],
   "source": [
    "\n",
    "my_dictionary = {\n",
    "    \"peaches\": 12,\n",
    "    \"apples\": 14,\n",
    "    \"watermelon\": 5,  \n",
    "    \"cantaloupe\": 7,   \n",
    "}\n",
    "print(my_dictionary)\n"
   ]
  },
  {
   "cell_type": "code",
   "execution_count": 18,
   "metadata": {},
   "outputs": [
    {
     "ename": "TypeError",
     "evalue": "'dict' object is not callable",
     "output_type": "error",
     "traceback": [
      "\u001b[1;31m---------------------------------------------------------------------------\u001b[0m",
      "\u001b[1;31mTypeError\u001b[0m                                 Traceback (most recent call last)",
      "Cell \u001b[1;32mIn[18], line 3\u001b[0m\n\u001b[0;32m      1\u001b[0m candy \u001b[38;5;241m=\u001b[39m [\u001b[38;5;124m\"\u001b[39m\u001b[38;5;124msnickers\u001b[39m\u001b[38;5;124m\"\u001b[39m, \u001b[38;5;124m\"\u001b[39m\u001b[38;5;124mtwix\u001b[39m\u001b[38;5;124m\"\u001b[39m, \u001b[38;5;124m\"\u001b[39m\u001b[38;5;124mskittles\u001b[39m\u001b[38;5;124m\"\u001b[39m, \u001b[38;5;124m\"\u001b[39m\u001b[38;5;124mstarburst\u001b[39m\u001b[38;5;124m\"\u001b[39m, \u001b[38;5;124m\"\u001b[39m\u001b[38;5;124mgum\u001b[39m\u001b[38;5;124m\"\u001b[39m]\n\u001b[0;32m      2\u001b[0m \u001b[38;5;28;01mfor\u001b[39;00m item \u001b[38;5;129;01min\u001b[39;00m candy:\n\u001b[1;32m----> 3\u001b[0m     \u001b[38;5;28;43mprint\u001b[39;49m\u001b[43m(\u001b[49m\u001b[43mitem\u001b[49m\u001b[43m)\u001b[49m\n",
      "\u001b[1;31mTypeError\u001b[0m: 'dict' object is not callable"
     ]
    }
   ],
   "source": [
    "candy = [\"snickers\", \"twix\", \"skittles\", \"starburst\", \"gum\"]\n",
    "for item in candy:\n",
    "    print(item)"
   ]
  },
  {
   "cell_type": "code",
   "execution_count": 30,
   "metadata": {},
   "outputs": [
    {
     "ename": "TypeError",
     "evalue": "'dict' object is not callable",
     "output_type": "error",
     "traceback": [
      "\u001b[1;31m---------------------------------------------------------------------------\u001b[0m",
      "\u001b[1;31mTypeError\u001b[0m                                 Traceback (most recent call last)",
      "Cell \u001b[1;32mIn[30], line 3\u001b[0m\n\u001b[0;32m      1\u001b[0m candy \u001b[38;5;241m=\u001b[39m [\u001b[38;5;124m\"\u001b[39m\u001b[38;5;124msnickers\u001b[39m\u001b[38;5;124m\"\u001b[39m, \u001b[38;5;124m\"\u001b[39m\u001b[38;5;124mtwix\u001b[39m\u001b[38;5;124m\"\u001b[39m, \u001b[38;5;124m\"\u001b[39m\u001b[38;5;124mskittles\u001b[39m\u001b[38;5;124m\"\u001b[39m, \u001b[38;5;124m\"\u001b[39m\u001b[38;5;124mstarburst\u001b[39m\u001b[38;5;124m\"\u001b[39m, \u001b[38;5;124m\"\u001b[39m\u001b[38;5;124mgum\u001b[39m\u001b[38;5;124m\"\u001b[39m]\n\u001b[0;32m      2\u001b[0m \u001b[38;5;28;01mfor\u001b[39;00m item \u001b[38;5;129;01min\u001b[39;00m candy:\n\u001b[1;32m----> 3\u001b[0m     \u001b[38;5;28;43mprint\u001b[39;49m\u001b[43m(\u001b[49m\u001b[43mitem\u001b[49m\u001b[43m)\u001b[49m\n",
      "\u001b[1;31mTypeError\u001b[0m: 'dict' object is not callable"
     ]
    }
   ],
   "source": [
    "candy = [\"snickers\", \"twix\", \"skittles\", \"starburst\", \"gum\"]\n",
    "for item in candy:\n",
    "    print(item)\n"
   ]
  },
  {
   "cell_type": "code",
   "execution_count": null,
   "metadata": {},
   "outputs": [],
   "source": [
    "#Create a list of at least 5 elements of mixed data types\n",
    "    - Replace a part of it with something else\n",
    "    - Append or insert several more items to the list\n",
    "    - Find and print the length of the list\n",
    "    - Slice a sub-section of the 1st list, and save it to a different 2nd list\n",
    "    - Print the 2nd list\n",
    "    - Extend your original list with the 2nd list sliced above\n",
    "    - Create a new list called \"simList\" containing at least 5 elements of the same data type, either string, integer, float, or Boolean\n",
    "    - Sort \"simList\", and print the list\n",
    "    - Copy the \"simList\" list to another 3rd list\n",
    "    - Add the 2nd and 3rd lists together into a 4th list\n",
    "\n",
    "1, 10, 11, 12\n",
    "\n"
   ]
  },
  {
   "cell_type": "code",
   "execution_count": 2,
   "metadata": {},
   "outputs": [
    {
     "name": "stdout",
     "output_type": "stream",
     "text": [
      "Length of the list: 7\n",
      "Second list: [10, 'inserted', 'Beautiful']\n",
      "Sorted simList: [1, 2, 5, 7, 8]\n",
      "Fourth list: [10, 'inserted', 'Beautiful', 1, 2, 5, 7, 8]\n"
     ]
    }
   ],
   "source": [
    "#10. Create a list of at least 5 elements of mixed data types\n",
    "#    - Replace a part of it with something else\n",
    "#    - Append or insert several more items to the list\n",
    "#   - Find and print the length of the list\n",
    "#   - Slice a sub-section of the 1st list, and save it to a different 2nd list\n",
    "#   - Print the 2nd list\n",
    "#   - Extend your original list with the 2nd list sliced above\n",
    "#   - Create a new list called \"simList\" containing at least 5 elements of the same data type, either string, integer, float, or Boolean\n",
    "#   - Sort \"simList\", and print the list\n",
    "#   - Copy the \"simList\" list to another 3rd list\n",
    "#   - Add the 2nd and 3rd lists together into a 4th list\n",
    "\n",
    "# Step 1: Create the original list\n",
    "original_list = [10, \"hello\", 3.14, True, [5, 6]]\n",
    "\n",
    "# Step 2: Replace part of it\n",
    "original_list[1] = \"Beautiful\"\n",
    "\n",
    "# Step 3: Append and insert items\n",
    "original_list.append(42)\n",
    "original_list.insert(1, \"inserted\")\n",
    "\n",
    "# Step 4: Find and print length of the list\n",
    "length_of_list = len(original_list)\n",
    "print(\"Length of the list:\", length_of_list)\n",
    "\n",
    "# Step 5: Slice a sub-section of the list\n",
    "second_list = original_list[:3]\n",
    "\n",
    "# Step 6: Print the second list\n",
    "print(\"Second list:\", second_list)\n",
    "\n",
    "# Step 7: Extend the original list\n",
    "original_list.extend(second_list)\n",
    "\n",
    "# Step 8: Create a new list simList\n",
    "simList = [5, 2, 8, 1, 7]\n",
    "\n",
    "# Step 9: Sort simList and print it\n",
    "simList.sort()\n",
    "print(\"Sorted simList:\", simList)\n",
    "\n",
    "# Step 10: Copy simList to third_list\n",
    "third_list = simList.copy()\n",
    "\n",
    "# Step 11: Add second_list and third_list into fourth_list\n",
    "fourth_list = second_list + third_list\n",
    "\n",
    "print(\"Fourth list:\", fourth_list)\n"
   ]
  },
  {
   "cell_type": "code",
   "execution_count": 33,
   "metadata": {},
   "outputs": [
    {
     "ename": "TypeError",
     "evalue": "'dict' object is not callable",
     "output_type": "error",
     "traceback": [
      "\u001b[1;31m---------------------------------------------------------------------------\u001b[0m",
      "\u001b[1;31mTypeError\u001b[0m                                 Traceback (most recent call last)",
      "Cell \u001b[1;32mIn[33], line 17\u001b[0m\n\u001b[0;32m     14\u001b[0m second_tuple \u001b[38;5;241m=\u001b[39m original_tuple \u001b[38;5;241m*\u001b[39m \u001b[38;5;241m3\u001b[39m\n\u001b[0;32m     16\u001b[0m \u001b[38;5;66;03m# Step 3: \u001b[39;00m\n\u001b[1;32m---> 17\u001b[0m \u001b[38;5;28;43mprint\u001b[39;49m\u001b[43m(\u001b[49m\u001b[38;5;124;43m\"\u001b[39;49m\u001b[38;5;124;43m12th element:\u001b[39;49m\u001b[38;5;124;43m\"\u001b[39;49m\u001b[43m,\u001b[49m\u001b[43m \u001b[49m\u001b[43msecond_tuple\u001b[49m\u001b[43m[\u001b[49m\u001b[38;5;241;43m4\u001b[39;49m\u001b[43m]\u001b[49m\u001b[43m)\u001b[49m\n\u001b[0;32m     19\u001b[0m \u001b[38;5;66;03m# Step 4: \u001b[39;00m\n\u001b[0;32m     20\u001b[0m comparable_elements \u001b[38;5;241m=\u001b[39m [x \u001b[38;5;28;01mfor\u001b[39;00m x \u001b[38;5;129;01min\u001b[39;00m second_tuple \u001b[38;5;28;01mif\u001b[39;00m \u001b[38;5;28misinstance\u001b[39m(x, (\u001b[38;5;28mint\u001b[39m, \u001b[38;5;28mfloat\u001b[39m))]\n",
      "\u001b[1;31mTypeError\u001b[0m: 'dict' object is not callable"
     ]
    }
   ],
   "source": [
    "#11. Create a tuple of about 5 elements\n",
    "#   - Multiply your tuple by 3 and save it to a new 2nd tuple\n",
    "#   - Access and print the 12th element from the 2nd tuple\n",
    "#   - Sort the 2nd tuple and print it\n",
    "#   - Copy 4 specific elements from your 2nd tuple to a new 3nd tuple\n",
    "#   - Unpack the 3rd tuple into 4 variables and print these variables\n",
    "#   - Create a 4th tuple with single item 50 and print this tuple\n",
    "#   - Add the 2nd and 3rd tuple together into a 5th tuple and print the tuple\n",
    "\n",
    "# Step 1: \n",
    "original_tuple = (4, 'orange', 1.5, True, 'strawberry')\n",
    "\n",
    "# Step 2: \n",
    "second_tuple = original_tuple * 3\n",
    "\n",
    "# Step 3: \n",
    "print(\"12th element:\", second_tuple[4])\n",
    "\n",
    "# Step 4: \n",
    "comparable_elements = [x for x in second_tuple if isinstance(x, (int, float))]\n",
    "comparable_elements.sort()\n",
    "sorted_comparable_tuple = tuple(comparable_elements)\n",
    "print(\"Sorted comparable elements tuple:\", sorted_comparable_tuple)\n",
    "\n",
    "# Step 5: \n",
    "third_tuple = second_tuple[:4]\n",
    "print(\"Third tuple:\", third_tuple)\n",
    "\n",
    "# Step 6:\n",
    "a, b, c, d = third_tuple\n",
    "print(\"Unpacked variables:\", a, b, c, d)\n",
    "\n",
    "# Step 7: \n",
    "fourth_tuple = (50,)\n",
    "print(\"Fourth tuple:\", fourth_tuple)\n",
    "\n",
    "# Step 8: \n",
    "fifth_tuple = second_tuple + third_tuple\n",
    "print(\"Fifth tuple:\", fifth_tuple)\n"
   ]
  },
  {
   "cell_type": "code",
   "execution_count": 32,
   "metadata": {},
   "outputs": [
    {
     "ename": "TypeError",
     "evalue": "'dict' object is not callable",
     "output_type": "error",
     "traceback": [
      "\u001b[1;31m---------------------------------------------------------------------------\u001b[0m",
      "\u001b[1;31mTypeError\u001b[0m                                 Traceback (most recent call last)",
      "Cell \u001b[1;32mIn[32], line 18\u001b[0m\n\u001b[0;32m     16\u001b[0m fruits \u001b[38;5;241m=\u001b[39m [\u001b[38;5;124m'\u001b[39m\u001b[38;5;124mbanana\u001b[39m\u001b[38;5;124m'\u001b[39m, \u001b[38;5;124m'\u001b[39m\u001b[38;5;124morange\u001b[39m\u001b[38;5;124m'\u001b[39m, \u001b[38;5;124m'\u001b[39m\u001b[38;5;124mgrape\u001b[39m\u001b[38;5;124m'\u001b[39m]\n\u001b[0;32m     17\u001b[0m first_set\u001b[38;5;241m.\u001b[39mupdate(fruits)\n\u001b[1;32m---> 18\u001b[0m \u001b[38;5;28;43mprint\u001b[39;49m\u001b[43m(\u001b[49m\u001b[38;5;124;43m\"\u001b[39;49m\u001b[38;5;124;43mFirst set after adding fruits:\u001b[39;49m\u001b[38;5;124;43m\"\u001b[39;49m\u001b[43m,\u001b[49m\u001b[43m \u001b[49m\u001b[43mfirst_set\u001b[49m\u001b[43m)\u001b[49m\n\u001b[0;32m     20\u001b[0m \u001b[38;5;66;03m# Step 3: \u001b[39;00m\n\u001b[0;32m     21\u001b[0m first_set\u001b[38;5;241m.\u001b[39madd(\u001b[38;5;124m'\u001b[39m\u001b[38;5;124mcar\u001b[39m\u001b[38;5;124m'\u001b[39m)\n",
      "\u001b[1;31mTypeError\u001b[0m: 'dict' object is not callable"
     ]
    }
   ],
   "source": [
    "#Question 12\n",
    "#Create a set of about 3 elements\n",
    " #   - Add a list of fruits to the above set and print the result\n",
    " #  #   - Add a car element to your set\n",
    "#  - Create a 2nd set with a few odd items\n",
    "#   - Save the union of 1st set and 2nd set to a 3rd set\n",
    "# - Pop an element from the 2nd set, and print the remainder of the set\n",
    "#   - Clear the 1st set and print the result\n",
    "#   - Discard an element, and remove another element from the 3rd set\n",
    "#   - Print the remainder of the 3rd set\n",
    "\n",
    "# Step 1: \n",
    "first_set = {33, 'Pineapple', 3.14}\n",
    "\n",
    "# Step 2: \n",
    "fruits = ['banana', 'orange', 'grape']\n",
    "first_set.update(fruits)\n",
    "print(\"First set after adding fruits:\", first_set)\n",
    "\n",
    "# Step 3: \n",
    "first_set.add('car')\n",
    "print(\"First set after adding car:\", first_set)\n",
    "\n",
    "# Step 4:\n",
    "second_set = {True, 42, 'odd', 7.5}\n",
    "\n",
    "# Step 5: \n",
    "third_set = first_set.union(second_set)\n",
    "print(\"Third set (union of first and second sets):\", third_set)\n",
    "\n",
    "# Step 6:\n",
    "popped_element = second_set.pop()\n",
    "print(\"Popped element from second set:\", popped_element)\n",
    "print(\"Remainder of the second set:\", second_set)\n",
    "\n",
    "# Step 7:\n",
    "first_set.clear()\n",
    "print(\"First set after clearing:\", first_set)\n",
    "\n",
    "# Step 8\n",
    "third_set.discard('apple')\n",
    "third_set.remove(7.5)\n",
    "print(\"Third set after discard and remove:\", third_set)\n"
   ]
  }
 ],
 "metadata": {
  "kernelspec": {
   "display_name": "Python 3",
   "language": "python",
   "name": "python3"
  },
  "language_info": {
   "codemirror_mode": {
    "name": "ipython",
    "version": 3
   },
   "file_extension": ".py",
   "mimetype": "text/x-python",
   "name": "python",
   "nbconvert_exporter": "python",
   "pygments_lexer": "ipython3",
   "version": "3.12.4"
  }
 },
 "nbformat": 4,
 "nbformat_minor": 2
}
