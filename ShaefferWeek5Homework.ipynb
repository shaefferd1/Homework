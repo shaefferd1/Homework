{
 "cells": [
  {
   "cell_type": "code",
   "execution_count": null,
   "metadata": {},
   "outputs": [],
   "source": [
    "1. What does Pandas stand for?\n",
    "Ans: Pandas stand for panel data and/or Pythom Data Analysis."
   ]
  },
  {
   "cell_type": "markdown",
   "metadata": {},
   "source": [
    "2. What are the 2 collections used in Pandas?\n",
    "Ans: Series and dataframes."
   ]
  },
  {
   "cell_type": "markdown",
   "metadata": {},
   "source": [
    "3. Name 4 things Pandas can do for us.\n",
    "Ans: Data cleaning, data visualization, data normalization, and data inspection."
   ]
  },
  {
   "cell_type": "markdown",
   "metadata": {},
   "source": [
    "4. To permanently sort a DataFrame, which keyword should one use with the `df.sort()` method?.\n",
    "Ans: "
   ]
  },
  {
   "cell_type": "markdown",
   "metadata": {},
   "source": [
    "5. What is a CSV?\n",
    "Ans: A comma seperated value."
   ]
  },
  {
   "cell_type": "markdown",
   "metadata": {},
   "source": [
    "6. When cleaning data what values do we not like in our data?\n",
    "Ans: Null and empty values."
   ]
  },
  {
   "cell_type": "code",
   "execution_count": 5,
   "metadata": {},
   "outputs": [
    {
     "name": "stdout",
     "output_type": "stream",
     "text": [
      "[[[ 0  1]\n",
      "  [ 2  3]\n",
      "  [ 4  5]]\n",
      "\n",
      " [[ 6  7]\n",
      "  [ 8  9]\n",
      "  [10 11]]]\n"
     ]
    }
   ],
   "source": [
    "#Import NumPy, use one of the NumPy methods and create an array with a shape of (2, 3, 2). You can use the reshape method -- `.reshape()`\n",
    "import numpy as np \n",
    "array = np.arange(12)\n",
    "reshaped_array = array.reshape((2, 3, 2))\n",
    "print (reshaped_array)"
   ]
  },
  {
   "cell_type": "code",
   "execution_count": 28,
   "metadata": {},
   "outputs": [
    {
     "name": "stdout",
     "output_type": "stream",
     "text": [
      "[ 0.  5. 10.]\n"
     ]
    }
   ],
   "source": [
    "#8. Use NumPy `.linspace()` to create an array with 6 linearly spaced values between 0 and 20\n",
    "import numpy as np \n",
    "array = np.linspace(0, 10, 3) \n",
    "print (array)"
   ]
  },
  {
   "cell_type": "code",
   "execution_count": 29,
   "metadata": {},
   "outputs": [
    {
     "name": "stdout",
     "output_type": "stream",
     "text": [
      "[0, 5, 10]\n"
     ]
    }
   ],
   "source": [
    "#9. Make a Deep Copy of the above array\n",
    "import copy\n",
    "original_array = [0, 5, 10]\n",
    "deep_copied_array = copy.deepcopy(original_array)\n",
    "print(deep_copied_array)"
   ]
  },
  {
   "cell_type": "code",
   "execution_count": 74,
   "metadata": {},
   "outputs": [
    {
     "name": "stdout",
     "output_type": "stream",
     "text": [
      "[[25 16]\n",
      " [11  2]\n",
      " [13  4]\n",
      " [ 7 81]\n",
      " [ 5  6]\n",
      " [11 12]]\n"
     ]
    }
   ],
   "source": [
    "#0. Concatenate these 3 arrays into a new array named 'newArray'...\n",
    "   # ```python\n",
    "#([[25, 16]])\n",
    "#([[11, 2], [13, 4]])\n",
    "#([[7, 81], [5, 6], [11, 12]])\n",
    "\n",
    "import numpy as np\n",
    "\n",
    "array1 = np.array([[25, 16]])\n",
    "array2 = np.array([[11, 2], [13, 4]])\n",
    "array3 = np.array([[7, 81], [5, 6], [11, 12]])\n",
    "\n",
    "newarray = np.concatenate((array1, array2, array3), axis=0)\n",
    "\n",
    "print(newarray)\n"
   ]
  },
  {
   "cell_type": "code",
   "execution_count": 36,
   "metadata": {},
   "outputs": [
    {
     "name": "stdout",
     "output_type": "stream",
     "text": [
      "[[25 16]\n",
      " [11  2]\n",
      " [13  4]\n",
      " [ 7 81]\n",
      " [ 5  6]\n",
      " [11 12]]\n"
     ]
    }
   ],
   "source": [
    "import numpy as np\n",
    "\n",
    "array1 = np.array([[25, 16]])\n",
    "array2 = np.array([[11, 2], [13, 4]])\n",
    "array3 = np.array([[7, 81], [5, 6], [11, 12]])\n",
    "\n",
    "newarray = np.concatenate((array1, array2, array3), axis=0)\n",
    "\n",
    "print(newarray)\n"
   ]
  },
  {
   "cell_type": "code",
   "execution_count": 38,
   "metadata": {},
   "outputs": [
    {
     "name": "stdout",
     "output_type": "stream",
     "text": [
      "Sorted Matrix Array:\n",
      "[[ 5  2]\n",
      " [ 7  4]\n",
      " [11  6]\n",
      " [11 12]\n",
      " [13 16]\n",
      " [25 81]]\n"
     ]
    }
   ],
   "source": [
    "#11. Sort 'newArray' in order into 'sortedArray'\n",
    "import numpy as np\n",
    "newarray = np.concatenate((array1, array2, array3), axis=0)\n",
    "sortedarraymatrix = np.sort(newarray, axis=0).reshape(newarray.shape)\n",
    "print(\"Sorted Matrix Array:\")\n",
    "print(sortedarraymatrix)"
   ]
  },
  {
   "cell_type": "code",
   "execution_count": 77,
   "metadata": {},
   "outputs": [
    {
     "name": "stdout",
     "output_type": "stream",
     "text": [
      "[[25 16]] [[11  2]\n",
      " [13  4]] [[ 7 81]\n",
      " [ 5  6]\n",
      " [11 12]]\n"
     ]
    }
   ],
   "source": [
    "#12. Unpack the array tuples from the above 'reshapedArray'  into 4 well named variables. Print the 4 variables.\n",
    "\n",
    "import numpy as np \n",
    "array1 = np.array([[25, 16]])\n",
    "array2 = np.array([[11, 2], [13, 4]])\n",
    "array3 = np.array([[7, 81], [5, 6], [11, 12]])\n",
    "\n",
    "print(array1, array2, array3)"
   ]
  },
  {
   "cell_type": "code",
   "execution_count": null,
   "metadata": {},
   "outputs": [],
   "source": [
    "13. Combined and sort the following arrays into one called 'comboArray' ...\n",
    "\n",
    "    ```python\n",
    "        one = ([10, 11, 12, 13, 14, 15, 16, 17])\n",
    "        two = ([20, 21, 22, 23, 24, 25, 26, 27])\n",
    "        three = ([ 0, 1, 2, 3, 4, 5, 6, 7])"
   ]
  },
  {
   "cell_type": "code",
   "execution_count": 40,
   "metadata": {},
   "outputs": [
    {
     "name": "stdout",
     "output_type": "stream",
     "text": [
      "[ 0  1  1  2  3  4  5  6  7 11 12 13 14 15 16 17 20 21 22 23 24 25 26 27]\n"
     ]
    }
   ],
   "source": [
    "import numpy as np \n",
    "one = np.array([1, 11, 12, 13, 14, 15, 16, 17])\n",
    "two = np.array([20, 21, 22, 23, 24, 25, 26, 27])\n",
    "three = np.array([0, 1, 2, 3, 4, 5, 6, 7])\n",
    "\n",
    "comboarray = np.concatenate((one, two, three))\n",
    "sortedcomboarray = np.sort(comboarray)\n",
    "\n",
    "print(sortedcomboarray)"
   ]
  },
  {
   "cell_type": "code",
   "execution_count": null,
   "metadata": {},
   "outputs": [],
   "source": [
    "14. Take 'comboArray' and perform the following slicing activities:\n",
    "    - print sec1 - the 2nd element\n",
    "    - print sec2 - all elements from the 3rd element to the last\n",
    "    - print sec3 - all elements from the 4th to the 14th elements\n",
    "    - print sec4 - the last 6 elements\n",
    "    - print sec5 - all element from #0 up to and including #15, using the negative number method, i.e. taking a section from the end.\n",
    "    - print sec6 - from #20 every even element to the end\n",
    "    - print sec7 - from the last element moving forward, every 5th element."
   ]
  },
  {
   "cell_type": "code",
   "execution_count": 44,
   "metadata": {},
   "outputs": [
    {
     "name": "stdout",
     "output_type": "stream",
     "text": [
      "sec1: 1\n",
      "sec2: [ 1  2  3  4  5  6  7 11 12 13 14 15 16 17 20 21 22 23 24 25 26 27]\n",
      "sec3: [ 2  3  4  5  6  7 11 12 13 14 15]\n",
      "sec4: 22\n",
      "sec5: [ 0  1  1  2  3  4  5  6  7 11 12 13 14 15 16 17]\n",
      "sec6: [24 26]\n",
      "sec7: [27 22 15  7  2]\n"
     ]
    }
   ],
   "source": [
    "import numpy as np \n",
    "comboarray = np.concatenate((one, two, three))\n",
    "sortedcomboarray = np.sort(comboarray)\n",
    "\n",
    "sec1 = sortedcomboarray[1]\n",
    "sec2 = sortedcomboarray[2:]\n",
    "sec3 = sortedcomboarray[3:14]\n",
    "sec4 = sortedcomboarray[-6]\n",
    "sec5 = sortedcomboarray[:16]\n",
    "sec6 = sortedcomboarray[20::2]\n",
    "sec7 = sortedcomboarray[::-5]\n",
    "\n",
    "print(\"sec1:\", sec1)\n",
    "print(\"sec2:\", sec2)\n",
    "print(\"sec3:\", sec3)\n",
    "print(\"sec4:\", sec4)\n",
    "print(\"sec5:\", sec5)\n",
    "print(\"sec6:\", sec6)\n",
    "print(\"sec7:\", sec7)\n"
   ]
  },
  {
   "cell_type": "code",
   "execution_count": null,
   "metadata": {},
   "outputs": [],
   "source": [
    "15. Using `Series`, create a `DataFrame` that looks like this:\n",
    "\n",
    "    | Ingredients | Quantity | Unit |\n",
    "    |----|----|----|\n",
    "    | Flour | 4 | cups |\n",
    "    | Milk | 1 | cup |\n",
    "    | Eggs | 2 | large |\n",
    "    | Spam | 1 | can |\n",
    "\n",
    "    Name: Dinner, dtype: object\n"
   ]
  },
  {
   "cell_type": "code",
   "execution_count": 50,
   "metadata": {},
   "outputs": [
    {
     "name": "stdout",
     "output_type": "stream",
     "text": [
      "  ingredients  quantity   unit\n",
      "0       Flour         4   cups\n",
      "1        Milk         1    cup\n",
      "2        Eggs         2  large\n",
      "3        Spam         1    can\n"
     ]
    }
   ],
   "source": [
    "import pandas as pd\n",
    "\n",
    "ingredients = pd.Series(['Flour', 'Milk', 'Eggs', 'Spam'], name='Ingredients')\n",
    "quantity = pd.Series([4, 1, 2, 1], name='Quantity')\n",
    "unit = pd.Series(['cups', 'cup', 'large', 'can'], name='Unit')\n",
    "df = pd.DataFrame({\n",
    "    'ingredients': ingredients,\n",
    "    'quantity': quantity, \n",
    "    'unit': unit   \n",
    "})\n",
    "\n",
    "print(df)"
   ]
  },
  {
   "cell_type": "code",
   "execution_count": null,
   "metadata": {},
   "outputs": [],
   "source": [
    ", 16. Take this data and create a DataFrame named studentData], \n",
    "    ```Python\n",
    "        {'Name': ['Jai', 'janusha', 'Gaurav', 'Anuj'],\n",
    "            'Height': [5.1, 6.2, 5.1, 5.2],\n",
    "            'Qualification': ['Msc', 'MA', 'Msc', 'Msc'],\n",
    "            'address': ['Delhi', 'Doha', 'Chennai', 'Dakhar'],\n",
    "            'Age': [21, 23, 24, 21],\n",
    "            'Pets': ['Dog', 'Bunny', 'Chinchilla', 'Parrot'],\n",
    "            'sport': ['Darts', 'Basketball', 'PaddleBoarding', 'Cricket']\n",
    "        }\n",
    "    ```"
   ]
  },
  {
   "cell_type": "code",
   "execution_count": 60,
   "metadata": {},
   "outputs": [
    {
     "name": "stdout",
     "output_type": "stream",
     "text": [
      "<class 'pandas.core.frame.DataFrame'>\n"
     ]
    }
   ],
   "source": [
    "import pandas as pd\n",
    "\n",
    "studentinfo = {\n",
    "    'name': ['Jai', 'Janusha', 'Gaurav', 'Anuj'], \n",
    "    'height': [5.1, 6.2, 51, 5.2], \n",
    "    'qualification': [\"Msc\", 'MA', 'Msc', 'Msc'],\n",
    "    'address': ['Delhi', 'Doha', 'Chennai', 'Dhaka'],\n",
    "    'age': [21, 23, 24, 21], \n",
    "    'pets': ['dog', 'bunny', 'chinchilla', 'parrot'], \n",
    "    'sport': ['darts', 'basketball', 'paddleboarding', 'cricket']\n",
    "    \n",
    "}\n",
    "studentinfo = pd.DataFrame\n",
    "print(studentinfo)"
   ]
  },
  {
   "cell_type": "code",
   "execution_count": 61,
   "metadata": {},
   "outputs": [
    {
     "name": "stdout",
     "output_type": "stream",
     "text": [
      "      Name  Height Qualification  Address  Age        Pets           Sport\n",
      "0      Jai     5.1           Msc    Delhi   21         Dog           Darts\n",
      "1  Janusha     6.2            MA     Doha   23       Bunny      Basketball\n",
      "2   Gaurav     5.1           Msc  Chennai   24  Chinchilla  PaddleBoarding\n",
      "3     Anuj     5.2           Msc    Dhaka   21      Parrot         Cricket\n"
     ]
    }
   ],
   "source": [
    "import pandas as pd\n",
    "\n",
    "data = {\n",
    "    'Name': ['Jai', 'Janusha', 'Gaurav', 'Anuj'],\n",
    "    'Height': [5.1, 6.2, 5.1, 5.2],\n",
    "    'Qualification': ['Msc', 'MA', 'Msc', 'Msc'],\n",
    "    'Address': ['Delhi', 'Doha', 'Chennai', 'Dhaka'],\n",
    "    'Age': [21, 23, 24, 21],\n",
    "    'Pets': ['Dog', 'Bunny', 'Chinchilla', 'Parrot'],\n",
    "    'Sport': ['Darts', 'Basketball', 'PaddleBoarding', 'Cricket']\n",
    "}\n",
    "\n",
    "studentData = pd.DataFrame(data)\n",
    "\n",
    "print(studentData)\n"
   ]
  },
  {
   "cell_type": "code",
   "execution_count": null,
   "metadata": {},
   "outputs": [],
   "source": [
    "17. Add a new column to the DataFrame with the following deserts:\n",
    "        [\"ice cream\", \"Cashew Fudge\", \"waffels\", \"Carrot Halwa\"]"
   ]
  },
  {
   "cell_type": "code",
   "execution_count": 65,
   "metadata": {},
   "outputs": [
    {
     "name": "stdout",
     "output_type": "stream",
     "text": [
      "      Name  Height Qualification  Address  Age        Pets           Sport  \\\n",
      "0      Jai     5.1           Msc    Delhi   21         Dog           Darts   \n",
      "1  Janusha     6.2            MA     Doha   23       Bunny      Basketball   \n",
      "2   Gaurav     5.1           Msc  Chennai   24  Chinchilla  PaddleBoarding   \n",
      "3     Anuj     5.2           Msc    Dhaka   21      Parrot         Cricket   \n",
      "\n",
      "       Desserts  \n",
      "0      icecream  \n",
      "1  cashew fudge  \n",
      "2       waffels  \n",
      "3  carrot halwa  \n"
     ]
    }
   ],
   "source": [
    "import pandas as pd\n",
    "\n",
    "data = {\n",
    "    'Name': ['Jai', 'Janusha', 'Gaurav', 'Anuj'],\n",
    "    'Height': [5.1, 6.2, 5.1, 5.2],\n",
    "    'Qualification': ['Msc', 'MA', 'Msc', 'Msc'],\n",
    "    'Address': ['Delhi', 'Doha', 'Chennai', 'Dhaka'],\n",
    "    'Age': [21, 23, 24, 21],\n",
    "    'Pets': ['Dog', 'Bunny', 'Chinchilla', 'Parrot'],\n",
    "    'Sport': ['Darts', 'Basketball', 'PaddleBoarding', 'Cricket'],\n",
    "    \n",
    "}\n",
    "\n",
    "studentData = pd.DataFrame(data)\n",
    "Desserts = ['icecream', \"cashew fudge\", \"waffels\", \"carrot halwa\"]\n",
    "\n",
    "studentData['Desserts'] = Desserts\n",
    "print(studentData)"
   ]
  },
  {
   "cell_type": "code",
   "execution_count": null,
   "metadata": {},
   "outputs": [],
   "source": [
    "18. Sort the 'studentData' DataFrame in Ascending order -- Sorting by column 'Name' and then \"address\""
   ]
  },
  {
   "cell_type": "code",
   "execution_count": 70,
   "metadata": {},
   "outputs": [
    {
     "name": "stdout",
     "output_type": "stream",
     "text": [
      "      Name  Height Qualification  Address  Age        Pets           Sport\n",
      "3     Anuj     5.2           Msc    Dhaka   21      Parrot         Cricket\n",
      "2   Gaurav     5.1           Msc  Chennai   24  Chinchilla  PaddleBoarding\n",
      "0      Jai     5.1           Msc    Delhi   21         Dog           Darts\n",
      "1  Janusha     6.2            MA     Doha   23       Bunny      Basketball\n"
     ]
    }
   ],
   "source": [
    "import pandas as pd\n",
    "\n",
    "data = {\n",
    "    'Name': ['Jai', 'Janusha', 'Gaurav', 'Anuj'],\n",
    "    'Height': [5.1, 6.2, 5.1, 5.2],\n",
    "    'Qualification': ['Msc', 'MA', 'Msc', 'Msc'],\n",
    "    'Address': ['Delhi', 'Doha', 'Chennai', 'Dhaka'],\n",
    "    'Age': [21, 23, 24, 21],\n",
    "    'Pets': ['Dog', 'Bunny', 'Chinchilla', 'Parrot'],\n",
    "    'Sport': ['Darts', 'Basketball', 'PaddleBoarding', 'Cricket'],\n",
    "    \n",
    "}\n",
    "studentData = pd.DataFrame(data)\n",
    "sorted_studentData = studentData.sort_values(by=['Name', 'Address'])\n",
    "print(sorted_studentData)"
   ]
  },
  {
   "cell_type": "code",
   "execution_count": null,
   "metadata": {},
   "outputs": [],
   "source": [
    "19. Save this `DataFrame` here below to disc as a `.CSV` file with the name `cows_and_goats.csv`:\n",
    "\n",
    "    ```python\n",
    "        df = pd.DataFrame({'Cows': [12, 20], 'Goats': [22, 19]}, index=['Year 1', 'Year 2'])\n",
    "    ```"
   ]
  },
  {
   "cell_type": "code",
   "execution_count": 73,
   "metadata": {},
   "outputs": [
    {
     "name": "stdout",
     "output_type": "stream",
     "text": [
      "DataFrame saved to 'cows_and_goats.csv'.\n"
     ]
    }
   ],
   "source": [
    "import pandas as pd\n",
    "\n",
    "df = pd.DataFrame({'Cows': [12, 20], 'Goats': [22, 19]}, index=['Year 1', 'Year 2'])\n",
    "\n",
    "df.to_csv('cows_and_goats.csv')\n",
    "print(\"DataFrame saved to 'cows_and_goats.csv'.\")\n"
   ]
  },
  {
   "cell_type": "code",
   "execution_count": 83,
   "metadata": {},
   "outputs": [],
   "source": [
    "#20. (A) Using Pandas, make your own .CSV file with data on vegetables and save it. (B) Using Pandas, make a change to your CSV file, and save a copy with a different name.\n",
    "\n",
    "import pandas as pd \n",
    "\n",
    "veggie_data = pd.DataFrame({\n",
    "    'veggie' : ['Tomato', 'Green Beans', 'Onion'],\n",
    "    'quantity' : [1, 2, 3]\n",
    "})\n",
    "veggie_data.to_csv('veggiedata.csv')"
   ]
  }
 ],
 "metadata": {
  "kernelspec": {
   "display_name": "Python 3",
   "language": "python",
   "name": "python3"
  },
  "language_info": {
   "codemirror_mode": {
    "name": "ipython",
    "version": 3
   },
   "file_extension": ".py",
   "mimetype": "text/x-python",
   "name": "python",
   "nbconvert_exporter": "python",
   "pygments_lexer": "ipython3",
   "version": "3.12.4"
  }
 },
 "nbformat": 4,
 "nbformat_minor": 2
}
